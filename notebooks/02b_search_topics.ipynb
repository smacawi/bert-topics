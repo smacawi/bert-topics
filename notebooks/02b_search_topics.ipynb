{
 "cells": [
  {
   "cell_type": "code",
   "execution_count": 1,
   "metadata": {},
   "outputs": [],
   "source": [
    "import os\n",
    "import sys\n",
    "\n",
    "root_dir = os.path.join(os.getcwd(), '..')\n",
    "sys.path.append(root_dir)"
   ]
  },
  {
   "cell_type": "code",
   "execution_count": 15,
   "metadata": {},
   "outputs": [
    {
     "name": "stdout",
     "output_type": "stream",
     "text": [
      "The autoreload extension is already loaded. To reload it, use:\n",
      "  %reload_ext autoreload\n"
     ]
    }
   ],
   "source": [
    "from models.BertTopicModel import BertTopicModel\n",
    "from models.TopicSearch import TopicSearch\n",
    "from utils import get_stopwords, topics_df\n",
    "\n",
    "%load_ext autoreload\n",
    "%autoreload 2"
   ]
  },
  {
   "cell_type": "code",
   "execution_count": 11,
   "metadata": {},
   "outputs": [],
   "source": [
    "ngrams=[1]\n",
    "max_df=[1.0]\n",
    "stf=[False]\n",
    "n_topics = [5]\n",
    "phrasing = [False]\n",
    "hashtag_opts = [False]\n",
    "hashtags =  ['nlwhiteout', 'nlweather', 'newfoundland', \n",
    "             'nlblizzard2020', 'nlstm2020','snowmaggedon2020', \n",
    "             'stmageddon2020','stormageddon2020', 'newfoundland2020',\n",
    "             'snowpocalypse2020','snowmageddon','nlstm', \n",
    "             'nlwx', 'nlwx2020','nlblizzard', 'nlstorm2020']"
   ]
  },
  {
   "cell_type": "code",
   "execution_count": 32,
   "metadata": {},
   "outputs": [
    {
     "name": "stdout",
     "output_type": "stream",
     "text": [
      "Running kmeans model for finetuned_sent_embeddings.pkl with 5 topics.\n",
      "Fitting kmeans model.\n",
      "The number of texts per label are:\n",
      "{0: 8898, 1: 7069, 2: 3410, 3: 813, 4: 1607}\n",
      "Saving kmeans model labels for finetuned_sent_embeddings.pkl with 5 topics, phrasing False, 1 ngrams, mdf 1.0 and stf False.\n",
      "Getting features for kmeans model for finetuned_sent_embeddings.pkl with 5 topics, phrasing False, 1 ngrams, mdf 1.0 and stf False.\n",
      "Filtering attentions.\n",
      "1861\n",
      "Getting components for kmeans model for finetuned_sent_embeddings.pkl with 5 topics, phrasing False, 1 ngrams, mdf 1.0 and stf False.\n",
      "\n",
      "    Determining cluster components. This will take a while. \n",
      "    Progress will be printed for every 500th processed property.\n",
      "        \n",
      "Processed 5000 texts in 1.25 seconds.\n",
      "Processed 10000 texts in 2.49 seconds.\n",
      "Processed 15000 texts in 3.76 seconds.\n",
      "Processed 20000 texts in 5.06 seconds.\n",
      "Finished determining a total of 21685 cluster components.        Total time 5.5 seconds.\n",
      "Determining topics for kmeans model for finetuned_sent_embeddings.pkl with 5 topics, phrasing False, 1 ngrams, mdf 1.0 and stf False.\n",
      "Determining topics for kmeans model for finetuned_sent_embeddings.pkl with 5 topics.\n",
      "Determining topics for kmeans model for finetuned_sent_embeddings.pkl with 5 topics.\n",
      "Determining topics for kmeans model for finetuned_sent_embeddings.pkl with 5 topics.\n"
     ]
    }
   ],
   "source": [
    "ts = TopicSearch()\n",
    "ts.search(ngrams=ngrams,\n",
    "          max_df=max_df,\n",
    "          stf=stf,\n",
    "          n_topics = n_topics,\n",
    "          hashtags = hashtags,\n",
    "          hashtag_opts = hashtag_opts,\n",
    "          phrasing = phrasing,\n",
    "          p_min_count=5,\n",
    "          p_threshold=100)"
   ]
  },
  {
   "cell_type": "code",
   "execution_count": null,
   "metadata": {},
   "outputs": [],
   "source": []
  }
 ],
 "metadata": {
  "kernelspec": {
   "display_name": "Allen NLP",
   "language": "python",
   "name": "allennlp"
  },
  "language_info": {
   "codemirror_mode": {
    "name": "ipython",
    "version": 3
   },
   "file_extension": ".py",
   "mimetype": "text/x-python",
   "name": "python",
   "nbconvert_exporter": "python",
   "pygments_lexer": "ipython3",
   "version": "3.7.5"
  }
 },
 "nbformat": 4,
 "nbformat_minor": 4
}
