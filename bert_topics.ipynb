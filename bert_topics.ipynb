{
  "nbformat": 4,
  "nbformat_minor": 0,
  "metadata": {
    "accelerator": "GPU",
    "colab": {
      "name": "bert-topics.ipynb",
      "provenance": [],
      "collapsed_sections": [
        "xuM0tnlo0yky",
        "l5CH_Rsfu7Wg"
      ],
      "toc_visible": true,
      "include_colab_link": true
    },
    "kernelspec": {
      "display_name": "Python 3",
      "name": "python3"
    },
    "language_info": {
      "name": "python"
    },
    "widgets": {
      "application/vnd.jupyter.widget-state+json": {
        "c7e41815146f4e8c8b2130373ef35029": {
          "model_module": "@jupyter-widgets/controls",
          "model_name": "HBoxModel",
          "state": {
            "_view_name": "HBoxView",
            "_dom_classes": [],
            "_model_name": "HBoxModel",
            "_view_module": "@jupyter-widgets/controls",
            "_model_module_version": "1.5.0",
            "_view_count": null,
            "_view_module_version": "1.5.0",
            "box_style": "",
            "layout": "IPY_MODEL_4edb7e0043b74a869f5df5dc6b2c79a4",
            "_model_module": "@jupyter-widgets/controls",
            "children": [
              "IPY_MODEL_ca943afe8a884e7ea87360448711bd0e",
              "IPY_MODEL_7b226095aba2447989dc5b0c97623db7"
            ]
          }
        },
        "4edb7e0043b74a869f5df5dc6b2c79a4": {
          "model_module": "@jupyter-widgets/base",
          "model_name": "LayoutModel",
          "state": {
            "_view_name": "LayoutView",
            "grid_template_rows": null,
            "right": null,
            "justify_content": null,
            "_view_module": "@jupyter-widgets/base",
            "overflow": null,
            "_model_module_version": "1.2.0",
            "_view_count": null,
            "flex_flow": null,
            "width": null,
            "min_width": null,
            "border": null,
            "align_items": null,
            "bottom": null,
            "_model_module": "@jupyter-widgets/base",
            "top": null,
            "grid_column": null,
            "overflow_y": null,
            "overflow_x": null,
            "grid_auto_flow": null,
            "grid_area": null,
            "grid_template_columns": null,
            "flex": null,
            "_model_name": "LayoutModel",
            "justify_items": null,
            "grid_row": null,
            "max_height": null,
            "align_content": null,
            "visibility": null,
            "align_self": null,
            "height": null,
            "min_height": null,
            "padding": null,
            "grid_auto_rows": null,
            "grid_gap": null,
            "max_width": null,
            "order": null,
            "_view_module_version": "1.2.0",
            "grid_template_areas": null,
            "object_position": null,
            "object_fit": null,
            "grid_auto_columns": null,
            "margin": null,
            "display": null,
            "left": null
          }
        },
        "ca943afe8a884e7ea87360448711bd0e": {
          "model_module": "@jupyter-widgets/controls",
          "model_name": "FloatProgressModel",
          "state": {
            "_view_name": "ProgressView",
            "style": "IPY_MODEL_37fff529d2234b74a89c557f2d3a1f30",
            "_dom_classes": [],
            "description": "100%",
            "_model_name": "FloatProgressModel",
            "bar_style": "success",
            "max": 171,
            "_view_module": "@jupyter-widgets/controls",
            "_model_module_version": "1.5.0",
            "value": 171,
            "_view_count": null,
            "_view_module_version": "1.5.0",
            "orientation": "horizontal",
            "min": 0,
            "description_tooltip": null,
            "_model_module": "@jupyter-widgets/controls",
            "layout": "IPY_MODEL_b449a0ea4f8040c5bce6e3092811b546"
          }
        },
        "7b226095aba2447989dc5b0c97623db7": {
          "model_module": "@jupyter-widgets/controls",
          "model_name": "HTMLModel",
          "state": {
            "_view_name": "HTMLView",
            "style": "IPY_MODEL_752e0a9bd4c14f44afe5ef6a07c9a7d0",
            "_dom_classes": [],
            "description": "",
            "_model_name": "HTMLModel",
            "placeholder": "​",
            "_view_module": "@jupyter-widgets/controls",
            "_model_module_version": "1.5.0",
            "value": " 171/171 [13:14&lt;00:00,  4.64s/it]",
            "_view_count": null,
            "_view_module_version": "1.5.0",
            "description_tooltip": null,
            "_model_module": "@jupyter-widgets/controls",
            "layout": "IPY_MODEL_498d7696f0c04930a1d3bafae98f3ecb"
          }
        },
        "37fff529d2234b74a89c557f2d3a1f30": {
          "model_module": "@jupyter-widgets/controls",
          "model_name": "ProgressStyleModel",
          "state": {
            "_view_name": "StyleView",
            "_model_name": "ProgressStyleModel",
            "description_width": "initial",
            "_view_module": "@jupyter-widgets/base",
            "_model_module_version": "1.5.0",
            "_view_count": null,
            "_view_module_version": "1.2.0",
            "bar_color": null,
            "_model_module": "@jupyter-widgets/controls"
          }
        },
        "b449a0ea4f8040c5bce6e3092811b546": {
          "model_module": "@jupyter-widgets/base",
          "model_name": "LayoutModel",
          "state": {
            "_view_name": "LayoutView",
            "grid_template_rows": null,
            "right": null,
            "justify_content": null,
            "_view_module": "@jupyter-widgets/base",
            "overflow": null,
            "_model_module_version": "1.2.0",
            "_view_count": null,
            "flex_flow": null,
            "width": null,
            "min_width": null,
            "border": null,
            "align_items": null,
            "bottom": null,
            "_model_module": "@jupyter-widgets/base",
            "top": null,
            "grid_column": null,
            "overflow_y": null,
            "overflow_x": null,
            "grid_auto_flow": null,
            "grid_area": null,
            "grid_template_columns": null,
            "flex": null,
            "_model_name": "LayoutModel",
            "justify_items": null,
            "grid_row": null,
            "max_height": null,
            "align_content": null,
            "visibility": null,
            "align_self": null,
            "height": null,
            "min_height": null,
            "padding": null,
            "grid_auto_rows": null,
            "grid_gap": null,
            "max_width": null,
            "order": null,
            "_view_module_version": "1.2.0",
            "grid_template_areas": null,
            "object_position": null,
            "object_fit": null,
            "grid_auto_columns": null,
            "margin": null,
            "display": null,
            "left": null
          }
        },
        "752e0a9bd4c14f44afe5ef6a07c9a7d0": {
          "model_module": "@jupyter-widgets/controls",
          "model_name": "DescriptionStyleModel",
          "state": {
            "_view_name": "StyleView",
            "_model_name": "DescriptionStyleModel",
            "description_width": "",
            "_view_module": "@jupyter-widgets/base",
            "_model_module_version": "1.5.0",
            "_view_count": null,
            "_view_module_version": "1.2.0",
            "_model_module": "@jupyter-widgets/controls"
          }
        },
        "498d7696f0c04930a1d3bafae98f3ecb": {
          "model_module": "@jupyter-widgets/base",
          "model_name": "LayoutModel",
          "state": {
            "_view_name": "LayoutView",
            "grid_template_rows": null,
            "right": null,
            "justify_content": null,
            "_view_module": "@jupyter-widgets/base",
            "overflow": null,
            "_model_module_version": "1.2.0",
            "_view_count": null,
            "flex_flow": null,
            "width": null,
            "min_width": null,
            "border": null,
            "align_items": null,
            "bottom": null,
            "_model_module": "@jupyter-widgets/base",
            "top": null,
            "grid_column": null,
            "overflow_y": null,
            "overflow_x": null,
            "grid_auto_flow": null,
            "grid_area": null,
            "grid_template_columns": null,
            "flex": null,
            "_model_name": "LayoutModel",
            "justify_items": null,
            "grid_row": null,
            "max_height": null,
            "align_content": null,
            "visibility": null,
            "align_self": null,
            "height": null,
            "min_height": null,
            "padding": null,
            "grid_auto_rows": null,
            "grid_gap": null,
            "max_width": null,
            "order": null,
            "_view_module_version": "1.2.0",
            "grid_template_areas": null,
            "object_position": null,
            "object_fit": null,
            "grid_auto_columns": null,
            "margin": null,
            "display": null,
            "left": null
          }
        }
      }
    }
  },
  "cells": [
    {
      "cell_type": "markdown",
      "metadata": {
        "id": "view-in-github",
        "colab_type": "text"
      },
      "source": [
        "<a href=\"https://colab.research.google.com/github/smacawi/bert-topics/blob/master/bert_topics.ipynb\" target=\"_parent\"><img src=\"https://colab.research.google.com/assets/colab-badge.svg\" alt=\"Open In Colab\"/></a>"
      ]
    },
    {
      "cell_type": "markdown",
      "metadata": {
        "id": "rjociS8Nuo4K"
      },
      "source": [
        "## Setup environment"
      ]
    },
    {
      "cell_type": "markdown",
      "metadata": {
        "id": "tiSpwZ2iXoCR"
      },
      "source": [
        "To make sure your colab doesn't disconnect due to inactivity, you can paste this code in the console of this tab (*right mouse click -> inspect -> Console tab and insert code*)."
      ]
    },
    {
      "cell_type": "markdown",
      "metadata": {
        "id": "UTcAzLYhXc2C"
      },
      "source": [
        "```\n",
        "function ConnectButton(){\n",
        "    console.log(\"Connect pushed\"); \n",
        "    document.querySelector(\"#top-toolbar > colab-connect-button\").shadowRoot.querySelector(\"#connect\").click() \n",
        "}\n",
        "\n",
        "setInterval(ConnectButton,60000);\n",
        "```"
      ]
    },
    {
      "cell_type": "markdown",
      "metadata": {
        "id": "xuM0tnlo0yky"
      },
      "source": [
        "### Requirements"
      ]
    },
    {
      "cell_type": "code",
      "metadata": {
        "colab": {
          "base_uri": "https://localhost:8080/"
        },
        "id": "rzqD61nqu_Zj",
        "outputId": "c9ec678a-9b40-45bb-fec3-41d5890fd6f6"
      },
      "source": [
        "# for topic models\n",
        "!pip install -U gensim\n",
        "!pip install pyLDAvis\n",
        "!pip install biterm"
      ],
      "execution_count": null,
      "outputs": [
        {
          "output_type": "stream",
          "text": [
            "Collecting gensim\n",
            "\u001b[?25l  Downloading https://files.pythonhosted.org/packages/44/52/f1417772965652d4ca6f901515debcd9d6c5430969e8c02ee7737e6de61c/gensim-4.0.1-cp37-cp37m-manylinux1_x86_64.whl (23.9MB)\n",
            "\u001b[K     |████████████████████████████████| 23.9MB 130kB/s \n",
            "\u001b[?25hRequirement already satisfied, skipping upgrade: smart-open>=1.8.1 in /usr/local/lib/python3.7/dist-packages (from gensim) (5.0.0)\n",
            "Requirement already satisfied, skipping upgrade: numpy>=1.11.3 in /usr/local/lib/python3.7/dist-packages (from gensim) (1.19.5)\n",
            "Requirement already satisfied, skipping upgrade: scipy>=0.18.1 in /usr/local/lib/python3.7/dist-packages (from gensim) (1.4.1)\n",
            "Installing collected packages: gensim\n",
            "  Found existing installation: gensim 3.6.0\n",
            "    Uninstalling gensim-3.6.0:\n",
            "      Successfully uninstalled gensim-3.6.0\n",
            "Successfully installed gensim-4.0.1\n",
            "Collecting pyLDAvis\n",
            "\u001b[?25l  Downloading https://files.pythonhosted.org/packages/03/a5/15a0da6b0150b8b68610cc78af80364a80a9a4c8b6dd5ee549b8989d4b60/pyLDAvis-3.3.1.tar.gz (1.7MB)\n",
            "\u001b[K     |████████████████████████████████| 1.7MB 19.4MB/s \n",
            "\u001b[?25h  Installing build dependencies ... \u001b[?25l\u001b[?25hdone\n",
            "  Getting requirements to build wheel ... \u001b[?25l\u001b[?25hdone\n",
            "  Installing backend dependencies ... \u001b[?25l\u001b[?25hdone\n",
            "    Preparing wheel metadata ... \u001b[?25l\u001b[?25hdone\n",
            "Requirement already satisfied: scipy in /usr/local/lib/python3.7/dist-packages (from pyLDAvis) (1.4.1)\n",
            "Requirement already satisfied: gensim in /usr/local/lib/python3.7/dist-packages (from pyLDAvis) (4.0.1)\n",
            "Requirement already satisfied: setuptools in /usr/local/lib/python3.7/dist-packages (from pyLDAvis) (54.2.0)\n",
            "Requirement already satisfied: numexpr in /usr/local/lib/python3.7/dist-packages (from pyLDAvis) (2.7.3)\n",
            "Requirement already satisfied: future in /usr/local/lib/python3.7/dist-packages (from pyLDAvis) (0.16.0)\n",
            "Collecting funcy\n",
            "  Downloading https://files.pythonhosted.org/packages/66/89/479de0afbbfb98d1c4b887936808764627300208bb771fcd823403645a36/funcy-1.15-py2.py3-none-any.whl\n",
            "Requirement already satisfied: sklearn in /usr/local/lib/python3.7/dist-packages (from pyLDAvis) (0.0)\n",
            "Collecting pandas>=1.2.0\n",
            "\u001b[?25l  Downloading https://files.pythonhosted.org/packages/51/51/48f3fc47c4e2144da2806dfb6629c4dd1fa3d5a143f9652b141e979a8ca9/pandas-1.2.4-cp37-cp37m-manylinux1_x86_64.whl (9.9MB)\n",
            "\u001b[K     |████████████████████████████████| 9.9MB 49.5MB/s \n",
            "\u001b[?25hRequirement already satisfied: joblib in /usr/local/lib/python3.7/dist-packages (from pyLDAvis) (1.0.1)\n",
            "Requirement already satisfied: scikit-learn in /usr/local/lib/python3.7/dist-packages (from pyLDAvis) (0.22.2.post1)\n",
            "Requirement already satisfied: jinja2 in /usr/local/lib/python3.7/dist-packages (from pyLDAvis) (2.11.3)\n",
            "Collecting numpy>=1.20.0\n",
            "\u001b[?25l  Downloading https://files.pythonhosted.org/packages/73/ef/8967d406f3f85018ceb5efab50431e901683188f1741ceb053efcab26c87/numpy-1.20.2-cp37-cp37m-manylinux2010_x86_64.whl (15.3MB)\n",
            "\u001b[K     |████████████████████████████████| 15.3MB 142kB/s \n",
            "\u001b[?25hRequirement already satisfied: smart-open>=1.8.1 in /usr/local/lib/python3.7/dist-packages (from gensim->pyLDAvis) (5.0.0)\n",
            "Requirement already satisfied: python-dateutil>=2.7.3 in /usr/local/lib/python3.7/dist-packages (from pandas>=1.2.0->pyLDAvis) (2.8.1)\n",
            "Requirement already satisfied: pytz>=2017.3 in /usr/local/lib/python3.7/dist-packages (from pandas>=1.2.0->pyLDAvis) (2018.9)\n",
            "Requirement already satisfied: MarkupSafe>=0.23 in /usr/local/lib/python3.7/dist-packages (from jinja2->pyLDAvis) (1.1.1)\n",
            "Requirement already satisfied: six>=1.5 in /usr/local/lib/python3.7/dist-packages (from python-dateutil>=2.7.3->pandas>=1.2.0->pyLDAvis) (1.15.0)\n",
            "Building wheels for collected packages: pyLDAvis\n",
            "  Building wheel for pyLDAvis (PEP 517) ... \u001b[?25l\u001b[?25hdone\n",
            "  Created wheel for pyLDAvis: filename=pyLDAvis-3.3.1-cp37-none-any.whl size=136870 sha256=6ad62875676a9078660f080760db71786dbc0fc0c692700b26b91709a4cb6252\n",
            "  Stored in directory: /root/.cache/pip/wheels/a0/9c/fc/c6e00689d35c82cf96a8adc70edfe7ba7904374fdac3240ac2\n",
            "Successfully built pyLDAvis\n",
            "\u001b[31mERROR: tensorflow 2.4.1 has requirement numpy~=1.19.2, but you'll have numpy 1.20.2 which is incompatible.\u001b[0m\n",
            "\u001b[31mERROR: google-colab 1.0.0 has requirement pandas~=1.1.0; python_version >= \"3.0\", but you'll have pandas 1.2.4 which is incompatible.\u001b[0m\n",
            "\u001b[31mERROR: datascience 0.10.6 has requirement folium==0.2.1, but you'll have folium 0.8.3 which is incompatible.\u001b[0m\n",
            "\u001b[31mERROR: albumentations 0.1.12 has requirement imgaug<0.2.7,>=0.2.5, but you'll have imgaug 0.2.9 which is incompatible.\u001b[0m\n",
            "Installing collected packages: funcy, numpy, pandas, pyLDAvis\n",
            "  Found existing installation: numpy 1.19.5\n",
            "    Uninstalling numpy-1.19.5:\n",
            "      Successfully uninstalled numpy-1.19.5\n",
            "  Found existing installation: pandas 1.1.5\n",
            "    Uninstalling pandas-1.1.5:\n",
            "      Successfully uninstalled pandas-1.1.5\n",
            "Successfully installed funcy-1.15 numpy-1.20.2 pandas-1.2.4 pyLDAvis-3.3.1\n"
          ],
          "name": "stdout"
        },
        {
          "output_type": "display_data",
          "data": {
            "application/vnd.colab-display-data+json": {
              "pip_warning": {
                "packages": [
                  "numpy",
                  "pandas"
                ]
              }
            }
          },
          "metadata": {
            "tags": []
          }
        },
        {
          "output_type": "stream",
          "text": [
            "Collecting biterm\n",
            "\u001b[?25l  Downloading https://files.pythonhosted.org/packages/36/ca/5a43511e6ea8ca02cc9e8be1b8898ad79b140c055d4400342dc210ba23bb/biterm-0.1.5.tar.gz (79kB)\n",
            "\r\u001b[K     |████▏                           | 10kB 17.9MB/s eta 0:00:01\r\u001b[K     |████████▎                       | 20kB 25.0MB/s eta 0:00:01\r\u001b[K     |████████████▍                   | 30kB 27.5MB/s eta 0:00:01\r\u001b[K     |████████████████▌               | 40kB 31.3MB/s eta 0:00:01\r\u001b[K     |████████████████████▋           | 51kB 27.4MB/s eta 0:00:01\r\u001b[K     |████████████████████████▊       | 61kB 29.8MB/s eta 0:00:01\r\u001b[K     |████████████████████████████▉   | 71kB 19.0MB/s eta 0:00:01\r\u001b[K     |████████████████████████████████| 81kB 8.1MB/s \n",
            "\u001b[?25hRequirement already satisfied: numpy in /usr/local/lib/python3.7/dist-packages (from biterm) (1.20.2)\n",
            "Requirement already satisfied: tqdm in /usr/local/lib/python3.7/dist-packages (from biterm) (4.41.1)\n",
            "Requirement already satisfied: cython in /usr/local/lib/python3.7/dist-packages (from biterm) (0.29.22)\n",
            "Requirement already satisfied: nltk in /usr/local/lib/python3.7/dist-packages (from biterm) (3.2.5)\n",
            "Requirement already satisfied: six in /usr/local/lib/python3.7/dist-packages (from nltk->biterm) (1.15.0)\n",
            "Building wheels for collected packages: biterm\n",
            "  Building wheel for biterm (setup.py) ... \u001b[?25l\u001b[?25hdone\n",
            "  Created wheel for biterm: filename=biterm-0.1.5-cp37-cp37m-linux_x86_64.whl size=195853 sha256=f8fcc723e54bf16a42975924eb097dcea22c63c459f4edb790014df83604f0d2\n",
            "  Stored in directory: /root/.cache/pip/wheels/86/04/10/231fb1d39d86ab58c2683fd3d4fe8415a5bc284ba8a20fd638\n",
            "Successfully built biterm\n",
            "Installing collected packages: biterm\n",
            "Successfully installed biterm-0.1.5\n"
          ],
          "name": "stdout"
        }
      ]
    },
    {
      "cell_type": "code",
      "metadata": {
        "colab": {
          "base_uri": "https://localhost:8080/"
        },
        "id": "hkKg4D3d03co",
        "outputId": "0874ff8b-0bc0-4957-b3b5-b90bbc241170"
      },
      "source": [
        "# !pip install sentence_transformers==0.2.5.1\n",
        "!pip install transformers==2.3.0"
      ],
      "execution_count": null,
      "outputs": [
        {
          "output_type": "stream",
          "text": [
            "Collecting transformers==2.3.0\n",
            "\u001b[?25l  Downloading https://files.pythonhosted.org/packages/50/10/aeefced99c8a59d828a92cc11d213e2743212d3641c87c82d61b035a7d5c/transformers-2.3.0-py3-none-any.whl (447kB)\n",
            "\r\u001b[K     |▊                               | 10kB 16.9MB/s eta 0:00:01\r\u001b[K     |█▌                              | 20kB 24.4MB/s eta 0:00:01\r\u001b[K     |██▏                             | 30kB 23.9MB/s eta 0:00:01\r\u001b[K     |███                             | 40kB 26.6MB/s eta 0:00:01\r\u001b[K     |███▋                            | 51kB 27.6MB/s eta 0:00:01\r\u001b[K     |████▍                           | 61kB 29.7MB/s eta 0:00:01\r\u001b[K     |█████▏                          | 71kB 24.2MB/s eta 0:00:01\r\u001b[K     |█████▉                          | 81kB 24.2MB/s eta 0:00:01\r\u001b[K     |██████▋                         | 92kB 21.8MB/s eta 0:00:01\r\u001b[K     |███████▎                        | 102kB 21.3MB/s eta 0:00:01\r\u001b[K     |████████                        | 112kB 21.3MB/s eta 0:00:01\r\u001b[K     |████████▉                       | 122kB 21.3MB/s eta 0:00:01\r\u001b[K     |█████████▌                      | 133kB 21.3MB/s eta 0:00:01\r\u001b[K     |██████████▎                     | 143kB 21.3MB/s eta 0:00:01\r\u001b[K     |███████████                     | 153kB 21.3MB/s eta 0:00:01\r\u001b[K     |███████████▊                    | 163kB 21.3MB/s eta 0:00:01\r\u001b[K     |████████████▌                   | 174kB 21.3MB/s eta 0:00:01\r\u001b[K     |█████████████▏                  | 184kB 21.3MB/s eta 0:00:01\r\u001b[K     |██████████████                  | 194kB 21.3MB/s eta 0:00:01\r\u001b[K     |██████████████▋                 | 204kB 21.3MB/s eta 0:00:01\r\u001b[K     |███████████████▍                | 215kB 21.3MB/s eta 0:00:01\r\u001b[K     |████████████████▏               | 225kB 21.3MB/s eta 0:00:01\r\u001b[K     |████████████████▉               | 235kB 21.3MB/s eta 0:00:01\r\u001b[K     |█████████████████▋              | 245kB 21.3MB/s eta 0:00:01\r\u001b[K     |██████████████████▎             | 256kB 21.3MB/s eta 0:00:01\r\u001b[K     |███████████████████             | 266kB 21.3MB/s eta 0:00:01\r\u001b[K     |███████████████████▊            | 276kB 21.3MB/s eta 0:00:01\r\u001b[K     |████████████████████▌           | 286kB 21.3MB/s eta 0:00:01\r\u001b[K     |█████████████████████▎          | 296kB 21.3MB/s eta 0:00:01\r\u001b[K     |██████████████████████          | 307kB 21.3MB/s eta 0:00:01\r\u001b[K     |██████████████████████▊         | 317kB 21.3MB/s eta 0:00:01\r\u001b[K     |███████████████████████▍        | 327kB 21.3MB/s eta 0:00:01\r\u001b[K     |████████████████████████▏       | 337kB 21.3MB/s eta 0:00:01\r\u001b[K     |█████████████████████████       | 348kB 21.3MB/s eta 0:00:01\r\u001b[K     |█████████████████████████▋      | 358kB 21.3MB/s eta 0:00:01\r\u001b[K     |██████████████████████████▍     | 368kB 21.3MB/s eta 0:00:01\r\u001b[K     |███████████████████████████     | 378kB 21.3MB/s eta 0:00:01\r\u001b[K     |███████████████████████████▉    | 389kB 21.3MB/s eta 0:00:01\r\u001b[K     |████████████████████████████▋   | 399kB 21.3MB/s eta 0:00:01\r\u001b[K     |█████████████████████████████▎  | 409kB 21.3MB/s eta 0:00:01\r\u001b[K     |██████████████████████████████  | 419kB 21.3MB/s eta 0:00:01\r\u001b[K     |██████████████████████████████▊ | 430kB 21.3MB/s eta 0:00:01\r\u001b[K     |███████████████████████████████▌| 440kB 21.3MB/s eta 0:00:01\r\u001b[K     |████████████████████████████████| 450kB 21.3MB/s \n",
            "\u001b[?25hRequirement already satisfied: requests in /usr/local/lib/python3.7/dist-packages (from transformers==2.3.0) (2.23.0)\n",
            "Collecting boto3\n",
            "\u001b[?25l  Downloading https://files.pythonhosted.org/packages/57/a5/892ed5d2959b1fdf4f8aaccf96b299e57dd7f06db7072592901fbaa36d79/boto3-1.17.54-py2.py3-none-any.whl (131kB)\n",
            "\u001b[K     |████████████████████████████████| 133kB 54.2MB/s \n",
            "\u001b[?25hRequirement already satisfied: numpy in /usr/local/lib/python3.7/dist-packages (from transformers==2.3.0) (1.20.2)\n",
            "Collecting sacremoses\n",
            "\u001b[?25l  Downloading https://files.pythonhosted.org/packages/75/ee/67241dc87f266093c533a2d4d3d69438e57d7a90abb216fa076e7d475d4a/sacremoses-0.0.45-py3-none-any.whl (895kB)\n",
            "\u001b[K     |████████████████████████████████| 901kB 53.4MB/s \n",
            "\u001b[?25hRequirement already satisfied: regex!=2019.12.17 in /usr/local/lib/python3.7/dist-packages (from transformers==2.3.0) (2019.12.20)\n",
            "Collecting sentencepiece\n",
            "\u001b[?25l  Downloading https://files.pythonhosted.org/packages/f5/99/e0808cb947ba10f575839c43e8fafc9cc44e4a7a2c8f79c60db48220a577/sentencepiece-0.1.95-cp37-cp37m-manylinux2014_x86_64.whl (1.2MB)\n",
            "\u001b[K     |████████████████████████████████| 1.2MB 56.9MB/s \n",
            "\u001b[?25hRequirement already satisfied: tqdm in /usr/local/lib/python3.7/dist-packages (from transformers==2.3.0) (4.41.1)\n",
            "Requirement already satisfied: idna<3,>=2.5 in /usr/local/lib/python3.7/dist-packages (from requests->transformers==2.3.0) (2.10)\n",
            "Requirement already satisfied: urllib3!=1.25.0,!=1.25.1,<1.26,>=1.21.1 in /usr/local/lib/python3.7/dist-packages (from requests->transformers==2.3.0) (1.24.3)\n",
            "Requirement already satisfied: certifi>=2017.4.17 in /usr/local/lib/python3.7/dist-packages (from requests->transformers==2.3.0) (2020.12.5)\n",
            "Requirement already satisfied: chardet<4,>=3.0.2 in /usr/local/lib/python3.7/dist-packages (from requests->transformers==2.3.0) (3.0.4)\n",
            "Collecting jmespath<1.0.0,>=0.7.1\n",
            "  Downloading https://files.pythonhosted.org/packages/07/cb/5f001272b6faeb23c1c9e0acc04d48eaaf5c862c17709d20e3469c6e0139/jmespath-0.10.0-py2.py3-none-any.whl\n",
            "Collecting s3transfer<0.5.0,>=0.4.0\n",
            "\u001b[?25l  Downloading https://files.pythonhosted.org/packages/3e/50/ac379fa31377f5d316cad8967db9f73c50cd61b80153269bfd7d8b964fc8/s3transfer-0.4.0-py2.py3-none-any.whl (79kB)\n",
            "\u001b[K     |████████████████████████████████| 81kB 12.0MB/s \n",
            "\u001b[?25hCollecting botocore<1.21.0,>=1.20.54\n",
            "\u001b[?25l  Downloading https://files.pythonhosted.org/packages/3c/e1/59cc39d22d44e64e96186db87d6e670e2119822d16299e18d0500198abb4/botocore-1.20.54-py2.py3-none-any.whl (7.4MB)\n",
            "\u001b[K     |████████████████████████████████| 7.4MB 50.1MB/s \n",
            "\u001b[?25hRequirement already satisfied: six in /usr/local/lib/python3.7/dist-packages (from sacremoses->transformers==2.3.0) (1.15.0)\n",
            "Requirement already satisfied: joblib in /usr/local/lib/python3.7/dist-packages (from sacremoses->transformers==2.3.0) (1.0.1)\n",
            "Requirement already satisfied: click in /usr/local/lib/python3.7/dist-packages (from sacremoses->transformers==2.3.0) (7.1.2)\n",
            "Requirement already satisfied: python-dateutil<3.0.0,>=2.1 in /usr/local/lib/python3.7/dist-packages (from botocore<1.21.0,>=1.20.54->boto3->transformers==2.3.0) (2.8.1)\n",
            "\u001b[31mERROR: botocore 1.20.54 has requirement urllib3<1.27,>=1.25.4, but you'll have urllib3 1.24.3 which is incompatible.\u001b[0m\n",
            "Installing collected packages: jmespath, botocore, s3transfer, boto3, sacremoses, sentencepiece, transformers\n",
            "Successfully installed boto3-1.17.54 botocore-1.20.54 jmespath-0.10.0 s3transfer-0.4.0 sacremoses-0.0.45 sentencepiece-0.1.95 transformers-2.3.0\n"
          ],
          "name": "stdout"
        }
      ]
    },
    {
      "cell_type": "code",
      "metadata": {
        "colab": {
          "base_uri": "https://localhost:8080/"
        },
        "id": "KWeXkRrVPFu0",
        "outputId": "aec497ad-9fdc-4181-c3f2-35ca5ff33b69"
      },
      "source": [
        "!python -m textblob.download_corpora"
      ],
      "execution_count": null,
      "outputs": [
        {
          "output_type": "stream",
          "text": [
            "[nltk_data] Downloading package brown to /root/nltk_data...\n",
            "[nltk_data]   Unzipping corpora/brown.zip.\n",
            "[nltk_data] Downloading package punkt to /root/nltk_data...\n",
            "[nltk_data]   Unzipping tokenizers/punkt.zip.\n",
            "[nltk_data] Downloading package wordnet to /root/nltk_data...\n",
            "[nltk_data]   Unzipping corpora/wordnet.zip.\n",
            "[nltk_data] Downloading package averaged_perceptron_tagger to\n",
            "[nltk_data]     /root/nltk_data...\n",
            "[nltk_data]   Unzipping taggers/averaged_perceptron_tagger.zip.\n",
            "[nltk_data] Downloading package conll2000 to /root/nltk_data...\n",
            "[nltk_data]   Unzipping corpora/conll2000.zip.\n",
            "[nltk_data] Downloading package movie_reviews to /root/nltk_data...\n",
            "[nltk_data]   Unzipping corpora/movie_reviews.zip.\n",
            "Finished.\n"
          ],
          "name": "stdout"
        }
      ]
    },
    {
      "cell_type": "markdown",
      "metadata": {
        "id": "C-ISIntU1Rvr"
      },
      "source": [
        "### Imports"
      ]
    },
    {
      "cell_type": "code",
      "metadata": {
        "id": "G4GZRMkfuuO6"
      },
      "source": [
        "import pandas as pd\n",
        "import numpy as np\n",
        "import itertools\n",
        "import random\n",
        "from pathlib import Path\n",
        "import json\n",
        "import time\n",
        "import datetime\n",
        "from tqdm.notebook import tqdm\n",
        "import matplotlib.pyplot as plt\n",
        "import re\n",
        "import math"
      ],
      "execution_count": null,
      "outputs": []
    },
    {
      "cell_type": "code",
      "metadata": {
        "id": "IIAFmTYfrhk8"
      },
      "source": [
        "# clustering / topic model modules\n",
        "from sklearn.cluster import KMeans\n",
        "from collections import Counter\n",
        "from gensim.models.phrases import Phrases, Phraser\n",
        "from sklearn.feature_extraction.text import TfidfVectorizer\n",
        "from textblob import TextBlob, Word\n",
        "import time"
      ],
      "execution_count": null,
      "outputs": []
    },
    {
      "cell_type": "code",
      "metadata": {
        "id": "XeIkdWPEAu5b"
      },
      "source": [
        "# neural network modules\n",
        "import torch\n",
        "from torch import nn\n",
        "from torch.utils.data import TensorDataset, DataLoader, RandomSampler\n",
        "from transformers import (BertTokenizer, BertModel, BertPreTrainedModel, AdamW,\n",
        "                          get_linear_schedule_with_warmup,\n",
        "                          )"
      ],
      "execution_count": null,
      "outputs": []
    },
    {
      "cell_type": "code",
      "metadata": {
        "colab": {
          "base_uri": "https://localhost:8080/"
        },
        "id": "G0Ejaydyt8s-",
        "outputId": "1bac1918-ab93-4b1a-e23a-3ab3172ffa84"
      },
      "source": [
        "# lda modules\n",
        "import gensim\n",
        "import gensim.corpora as corpora\n",
        "from gensim.utils import simple_preprocess\n",
        "import pyLDAvis\n",
        "import nltk\n",
        "nltk.download('stopwords')\n",
        "from nltk.corpus import stopwords\n",
        "from nltk.tokenize import RegexpTokenizer"
      ],
      "execution_count": null,
      "outputs": [
        {
          "output_type": "stream",
          "text": [
            "/usr/local/lib/python3.7/dist-packages/gensim/similarities/__init__.py:15: UserWarning: The gensim.similarities.levenshtein submodule is disabled, because the optional Levenshtein package <https://pypi.org/project/python-Levenshtein/> is unavailable. Install Levenhstein (e.g. `pip install python-Levenshtein`) to suppress this warning.\n",
            "  warnings.warn(msg)\n",
            "/usr/local/lib/python3.7/dist-packages/past/types/oldstr.py:5: DeprecationWarning: Using or importing the ABCs from 'collections' instead of from 'collections.abc' is deprecated since Python 3.3,and in 3.9 it will stop working\n",
            "  from collections import Iterable\n",
            "/usr/local/lib/python3.7/dist-packages/past/builtins/misc.py:4: DeprecationWarning: Using or importing the ABCs from 'collections' instead of from 'collections.abc' is deprecated since Python 3.3,and in 3.9 it will stop working\n",
            "  from collections import Mapping\n"
          ],
          "name": "stderr"
        },
        {
          "output_type": "stream",
          "text": [
            "[nltk_data] Downloading package stopwords to /root/nltk_data...\n",
            "[nltk_data]   Unzipping corpora/stopwords.zip.\n"
          ],
          "name": "stdout"
        },
        {
          "output_type": "stream",
          "text": [
            "/usr/local/lib/python3.7/dist-packages/nltk/decorators.py:70: DeprecationWarning: `formatargspec` is deprecated since Python 3.5. Use `signature` and the `Signature` object directly\n",
            "  formatvalue=lambda value: \"\")[1:-1]\n"
          ],
          "name": "stderr"
        }
      ]
    },
    {
      "cell_type": "code",
      "metadata": {
        "id": "XZXWQ3D9wLsR"
      },
      "source": [
        "# btm modules\n",
        "from sklearn.feature_extraction.text import CountVectorizer\n",
        "from biterm.utility import vec_to_biterms, topic_summuary\n",
        "from biterm.btm import oBTM"
      ],
      "execution_count": null,
      "outputs": []
    },
    {
      "cell_type": "code",
      "metadata": {
        "id": "3Hn45H0nbpR8"
      },
      "source": [
        "# coherence modules\n",
        "\n",
        "from gensim.corpora import Dictionary\n",
        "from gensim.models.coherencemodel import CoherenceModel"
      ],
      "execution_count": null,
      "outputs": []
    },
    {
      "cell_type": "code",
      "metadata": {
        "id": "GvuwPZJ96va4"
      },
      "source": [
        "# data downloading\n",
        "import requests\n",
        "from zipfile import ZipFile"
      ],
      "execution_count": null,
      "outputs": []
    },
    {
      "cell_type": "code",
      "metadata": {
        "id": "hsbHxFsZ6uCW"
      },
      "source": [
        "# types\n",
        "from typing import List, Tuple, Dict"
      ],
      "execution_count": null,
      "outputs": []
    },
    {
      "cell_type": "code",
      "metadata": {
        "id": "jO922CmwBs0k"
      },
      "source": [
        "# plots\n",
        "import matplotlib.pyplot as plt\n",
        "import matplotlib as mpl\n",
        "import seaborn as sns\n",
        "from matplotlib.colors import ListedColormap\n",
        "from IPython.display import Image"
      ],
      "execution_count": null,
      "outputs": []
    },
    {
      "cell_type": "markdown",
      "metadata": {
        "id": "l5CH_Rsfu7Wg"
      },
      "source": [
        "## Download data"
      ]
    },
    {
      "cell_type": "markdown",
      "metadata": {
        "id": "nIT77KdH3RgI"
      },
      "source": [
        "### Winter Storm Jacob 2020"
      ]
    },
    {
      "cell_type": "code",
      "metadata": {
        "id": "2vFSyZVKuvFe"
      },
      "source": [
        "nlwx_df = pd.read_csv('https://drive.google.com/uc?export=download&id=1wYsKTuKabfS7wrVYJ1yu9Sk0cHF7BDhN')"
      ],
      "execution_count": null,
      "outputs": []
    },
    {
      "cell_type": "code",
      "metadata": {
        "id": "GII84hk0xkTh"
      },
      "source": [
        "#nlwx_df.head()"
      ],
      "execution_count": null,
      "outputs": []
    },
    {
      "cell_type": "markdown",
      "metadata": {
        "id": "h526UzzW3aoj"
      },
      "source": [
        "### CrisisNLP\n",
        "Dowload CrisisNLP tweets (annotated by paid workers on crowdflower). \n",
        "\n",
        "For more information on dataset see: https://crisisnlp.qcri.org/lrec2016/lrec2016.html"
      ]
    },
    {
      "cell_type": "code",
      "metadata": {
        "id": "WKUYFDqb1ZeV"
      },
      "source": [
        "# download already filtered/split datasets\n",
        "CRISIS_NLP_URL = 'https://drive.google.com/uc?export=download&id=1a5eWNUBKYb-RYQ9THU_GLRX2EaBh5spK'\n",
        "DATA_PATH = Path.cwd()\n",
        "CRISIS_NLP_PATH = DATA_PATH / \"LREC_2016_datasets.zip\"\n",
        "\n",
        "r = requests.get(CRISIS_NLP_URL)\n",
        "with CRISIS_NLP_PATH.open(\"wb\") as f:\n",
        "    f.write(r.content)\n",
        "\n",
        "with ZipFile(CRISIS_NLP_PATH) as z:\n",
        "    z.extractall(DATA_PATH)"
      ],
      "execution_count": null,
      "outputs": []
    },
    {
      "cell_type": "code",
      "metadata": {
        "id": "0M4cDkEF3eg5"
      },
      "source": [
        "# download and split original data from CrisisNLP (might be rate-limited)\n",
        "DOWNLOAD_ORIGINAL = False \n",
        "\n",
        "if DOWNLOAD_ORIGINAL:\n",
        "    DATA_PATH = Path.cwd()\n",
        "    CRISIS_NLP_PATH = DATA_PATH / \"LREC_2016_datasets.zip\"\n",
        "\n",
        "    CRISIS_NLP_URL = \"https://crisisnlp.qcri.org/data/lrec2016/labeled_cf/CrisisNLP_labeled_data_crowdflower.zip\"\n",
        "    CRISIS_NLP_DIR = \"CrisisNLP_labeled_data_crowdflower\"\n",
        "    label_col = \"choose_one_category\"\n",
        "\n",
        "    r = requests.get(CRISIS_NLP_URL)\n",
        "\n",
        "    with CRISIS_NLP_PATH.open(\"wb\") as f:\n",
        "        f.write(r.content)\n",
        "\n",
        "    with ZipFile(CRISIS_NLP_PATH) as z:\n",
        "        z.extractall(DATA_PATH)\n",
        "\n",
        "    for zip_file in (DATA_PATH / CRISIS_NLP_DIR).glob(\"*/*.zip\"):\n",
        "        print(f\"unzipping {zip_file}\")\n",
        "        with ZipFile(zip_file) as z:\n",
        "            z.extractall(zip_file.parent)\n",
        "\n",
        "\n",
        "    def create_train_test_split(csv_path: Path, label_col, split: float = 0.8):\n",
        "        df = pd.read_csv(csv_path, encoding = \"ISO-8859-1\").sample(frac=1).reset_index(drop=True)\n",
        "        train_df = pd.DataFrame(columns=df.columns)\n",
        "        test_df = pd.DataFrame(columns=df.columns)\n",
        "        train_path = csv_path.parent / f\"{csv_path.stem}_train.csv\"\n",
        "        test_path = csv_path.parent / f\"{csv_path.stem}_test.csv\"\n",
        "        for label in df[label_col].unique():\n",
        "            label_df = df.loc[df[label_col] == label]\n",
        "            train_df = train_df.append(label_df[:int(len(label_df)*split)])\n",
        "            test_df = test_df.append(label_df[int(len(label_df)*split):])\n",
        "\n",
        "        print(f\"Train set:\\n{train_df[label_col].value_counts()}\")\n",
        "        print(f\"Test set:\\n{test_df[label_col].value_counts()}\")\n",
        "        print(\"-\"*80)\n",
        "        train_df.to_csv(train_path)\n",
        "        test_df.to_csv(test_path)\n",
        "\n",
        "\n",
        "    split = 0.8\n",
        "    for csv_path in (DATA_PATH / CRISIS_NLP_DIR).glob(\"*/*.csv\"):\n",
        "        if \"train\" in str(csv_path) or \"test\" in str(csv_path):\n",
        "            continue\n",
        "        else:\n",
        "            print(f\"Splitting: {csv_path.parent}\")\n",
        "            create_train_test_split(csv_path, label_col, split)"
      ],
      "execution_count": null,
      "outputs": []
    },
    {
      "cell_type": "markdown",
      "metadata": {
        "id": "5yQzNq8nvv1D"
      },
      "source": [
        "## FTE Model"
      ]
    },
    {
      "cell_type": "markdown",
      "metadata": {
        "id": "tfrSulS0u-8Q"
      },
      "source": [
        "### Finetune model"
      ]
    },
    {
      "cell_type": "code",
      "metadata": {
        "id": "E8km6oMCQk-O"
      },
      "source": [
        "# skip finetuning and load pre-finetuned model\n",
        "FINETUNE = False\n",
        "\n",
        "# Dataloader\n",
        "BSZ = 8\n",
        "\n",
        "# Optimizer\n",
        "LR = 2e-5\n",
        "EPS = 1e-8 \n",
        "\n",
        "# Training\n",
        "N_EPOCHS = 2 # Model converges within 2 epochs\n",
        "\n",
        "# Random seed\n",
        "SEED = 42\n",
        "random.seed(SEED)\n",
        "np.random.seed(SEED)\n",
        "torch.manual_seed(SEED)\n",
        "torch.cuda.manual_seed_all(SEED)\n"
      ],
      "execution_count": null,
      "outputs": []
    },
    {
      "cell_type": "code",
      "metadata": {
        "colab": {
          "base_uri": "https://localhost:8080/"
        },
        "id": "MMXopAYqVqmb",
        "outputId": "79c36744-1ddb-40cd-90b0-41c85c688087"
      },
      "source": [
        "device = torch.device(\"cuda\" if torch.cuda.is_available() else \"cpu\")\n",
        "print(f\"Using device: {device}\")"
      ],
      "execution_count": null,
      "outputs": [
        {
          "output_type": "stream",
          "text": [
            "Using device: cuda\n"
          ],
          "name": "stdout"
        }
      ]
    },
    {
      "cell_type": "markdown",
      "metadata": {
        "id": "adRV3DAk21tF"
      },
      "source": [
        "#### Create dataloaders"
      ]
    },
    {
      "cell_type": "code",
      "metadata": {
        "id": "bfTkVvefvEg-"
      },
      "source": [
        "if FINETUNE:\n",
        "  # read data\n",
        "  DATA_PATH = Path.cwd() / \"CrisisNLP_labeled_data_crowdflower\"\n",
        "  PATHS = [\"2014_California_Earthquake\", \"2014_Chile_Earthquake_en\", \n",
        "          \"2013_Pakistan_eq\", \"2014_Hurricane_Odile_Mexico_en\",\n",
        "          \"2014_India_floods\", \"2014_Pakistan_floods\", \n",
        "          \"2014_Philippines_Typhoon_Hagupit_en\",\"2015_Cyclone_Pam_en\",\n",
        "          \"2015_Nepal_Earthquake_en\"]\n",
        "\n",
        "  def read_data(\n",
        "          data_dir: Path, \n",
        "          events: List[str], \n",
        "          train_test: str, \n",
        "          text_col: str = \"tweet_text\", \n",
        "          label_col: str = \"choose_one_category\"\n",
        "          ) -> List[Tuple[str, str]]:\n",
        "      data = []\n",
        "      for event in events:\n",
        "          csv_paths = list((data_dir / event).glob(f\"*_{train_test}.csv\"))\n",
        "          assert len(csv_paths) == 1, f\"Found files:{csv_paths}\\n for event {event}\"\n",
        "\n",
        "          df = pd.read_csv(csv_paths[0], encoding = \"ISO-8859-1\")\n",
        "          data.extend(list(zip(df[text_col], df[label_col])))\n",
        "      return(data)\n",
        "\n",
        "  data_train = read_data(DATA_PATH, PATHS, \"train\")\n",
        "  data_val = read_data(DATA_PATH, PATHS, \"test\")\n",
        "\n",
        "  # Note: there seems to be issues with the encoding of the CrisisNLP data\n",
        "  print(f\"Training data: {len(data_train)} examples; e.g. {data_train[0]}\")\n",
        "  print(f\"Validation data: {len(data_val)} examples; e.g. {data_val[0]}\")"
      ],
      "execution_count": null,
      "outputs": []
    },
    {
      "cell_type": "code",
      "metadata": {
        "id": "-oxSKZLmEJ79"
      },
      "source": [
        "if FINETUNE:\n",
        "  # create data loader\n",
        "  tokenizer = BertTokenizer.from_pretrained('bert-base-uncased', do_lower_case=True)\n",
        "\n",
        "  train_labels = [tpl[1] for tpl in data_train]\n",
        "  val_labels = [tpl[1] for tpl in data_val]\n",
        "  ltoi = {l: i for i,l in enumerate(set(train_labels + val_labels))}\n",
        "\n",
        "  def create_dataloader(\n",
        "          data: List[Tuple[str, str]],\n",
        "          tokenizer: BertTokenizer,\n",
        "          ltoi: Dict[str, int],\n",
        "          batch_size: int\n",
        "          ):\n",
        "      texts_raw = [tpl[0] for tpl in data]\n",
        "      d = tokenizer.batch_encode_plus(\n",
        "          texts_raw, add_special_tokens=True, return_tensors='pt',\n",
        "      )\n",
        "      labels = [tpl[1] for tpl in data]\n",
        "      labels = torch.LongTensor([ltoi[l] for l in labels])\n",
        "\n",
        "      ds = TensorDataset(d['input_ids'], d['attention_mask'], labels)\n",
        "      sampler = RandomSampler(ds)\n",
        "      dataloader = DataLoader(ds, sampler=sampler, batch_size=batch_size)\n",
        "      return(dataloader)\n",
        "\n",
        "  train_dataloader = create_dataloader(data_train, tokenizer, ltoi, BSZ)\n",
        "  val_dataloader = create_dataloader(data_val, tokenizer, ltoi, BSZ)"
      ],
      "execution_count": null,
      "outputs": []
    },
    {
      "cell_type": "markdown",
      "metadata": {
        "id": "ynM2H2umGlG-"
      },
      "source": [
        "#### Initialize model"
      ]
    },
    {
      "cell_type": "code",
      "metadata": {
        "id": "5eVTg9nvG15O"
      },
      "source": [
        "class BertForSequenceClassificationOutputPooled(BertPreTrainedModel):\n",
        "    def __init__(self, config):\n",
        "        super().__init__(config)\n",
        "        self.bert = BertModel(config)\n",
        "        self.dropout = nn.Dropout(config.hidden_dropout_prob)\n",
        "        self.classifier = nn.Linear(config.hidden_size, config.num_labels)\n",
        "        self.init_weights()\n",
        "\n",
        "    def forward(\n",
        "        self,\n",
        "        input_ids=None,\n",
        "        attention_mask=None,\n",
        "        token_type_ids=None,\n",
        "        position_ids=None,\n",
        "        head_mask=None,\n",
        "        inputs_embeds=None,\n",
        "        labels=None,\n",
        "    ):\n",
        "        outputs = self.bert(\n",
        "            input_ids,\n",
        "            attention_mask=attention_mask,\n",
        "            token_type_ids=token_type_ids,\n",
        "            position_ids=position_ids,\n",
        "            head_mask=head_mask,\n",
        "            inputs_embeds=inputs_embeds,\n",
        "        )\n",
        "\n",
        "        pooled_output = outputs[1]\n",
        "        pooled_output = self.dropout(pooled_output)\n",
        "        logits = self.classifier(pooled_output)\n",
        "        outputs = (logits,) + outputs[2:] # add hidden states and attention if they are here\n",
        "        \n",
        "        if labels is not None:\n",
        "            loss_fct = nn.CrossEntropyLoss()\n",
        "            loss = loss_fct(logits.view(-1, self.config.num_labels), labels.view(-1))\n",
        "            outputs = (loss,) + outputs\n",
        "        \n",
        "        return outputs  # (loss), logits, (hidden_states), (attentions)"
      ],
      "execution_count": null,
      "outputs": []
    },
    {
      "cell_type": "code",
      "metadata": {
        "id": "47zTEprGPG5o"
      },
      "source": [
        "if FINETUNE:\n",
        "\n",
        "  model = BertForSequenceClassificationOutputPooled.from_pretrained(\n",
        "      \"bert-base-uncased\", # Use the 12-layer BERT model, with an uncased vocab.\n",
        "      num_labels = len(ltoi), # The number of output labels.\n",
        "      output_attentions = True, # Whether the model returns attentions weights.\n",
        "      output_hidden_states = True, # Whether the model returns all hidden-states.\n",
        "  ).to(device)\n",
        "\n",
        "  optimizer = AdamW(model.parameters(), lr=LR, eps=EPS)\n",
        "  total_steps = len(train_dataloader) * N_EPOCHS\n",
        "  scheduler = get_linear_schedule_with_warmup(optimizer, \n",
        "                                              num_warmup_steps = 0,\n",
        "                                              num_training_steps = total_steps)"
      ],
      "execution_count": null,
      "outputs": []
    },
    {
      "cell_type": "markdown",
      "metadata": {
        "id": "dfgdAOawRf8d"
      },
      "source": [
        "#### Train model"
      ]
    },
    {
      "cell_type": "code",
      "metadata": {
        "id": "gSMHFMCrUihY"
      },
      "source": [
        "if FINETUNE:\n",
        "  \n",
        "  def flat_accuracy(preds: np.ndarray, labels: np.ndarray):\n",
        "      pred_flat = np.argmax(preds, axis=1).flatten()\n",
        "      labels_flat = labels.flatten()\n",
        "      return np.sum(pred_flat == labels_flat) / len(labels_flat)\n",
        "      \n",
        "  def format_time(seconds: int):\n",
        "      # Format time as hh:mm:ss\n",
        "      seconds = int(round((seconds))) \n",
        "      return str(datetime.timedelta(seconds=seconds))"
      ],
      "execution_count": null,
      "outputs": []
    },
    {
      "cell_type": "code",
      "metadata": {
        "id": "1aLVSlC5P5kv"
      },
      "source": [
        "if FINETUNE:\n",
        "  \n",
        "  torch.cuda.empty_cache()\n",
        "\n",
        "  loss_values = []\n",
        "  for epoch_i in range(N_EPOCHS):\n",
        "      print('\\n======== Epoch {:} / {:} ========'.format(epoch_i + 1, N_EPOCHS))\n",
        "      print('Training...')\n",
        "      model.train()\n",
        "      total_loss = 0\n",
        "\n",
        "      t0 = time.time()\n",
        "      pbar = tqdm(enumerate(train_dataloader), total=len(train_dataloader))\n",
        "      for step, batch in pbar:\n",
        "          b_input_ids, b_input_mask, b_labels = tuple(t.to(device) for t in batch)\n",
        "\n",
        "          model.zero_grad()        \n",
        "          outputs = model(b_input_ids, \n",
        "                          token_type_ids=None, \n",
        "                          attention_mask=b_input_mask, \n",
        "                          labels=b_labels)\n",
        "\n",
        "          loss = outputs[0]\n",
        "          total_loss += loss.item()\n",
        "          loss.backward()\n",
        "          torch.nn.utils.clip_grad_norm_(model.parameters(), 1.0)\n",
        "          \n",
        "          optimizer.step()\n",
        "          scheduler.step()\n",
        "\n",
        "          logits = outputs[1].detach().cpu().numpy()\n",
        "          label_ids = b_labels.cpu().numpy()\n",
        "          acc = flat_accuracy(logits, label_ids)\n",
        "          pbar.set_description(f\"Acc: {acc}\")\n",
        "\n",
        "      avg_train_loss = total_loss / len(train_dataloader)            \n",
        "      loss_values.append(avg_train_loss)\n",
        "      print(\"\\n  Average training loss: {0:.2f}\".format(avg_train_loss))\n",
        "      print(\"  Training epcoh took: {:}\".format(format_time(time.time() - t0)))\n",
        "\n",
        "\n",
        "      print(\"\\nRunning Validation...\")\n",
        "      model.eval()\n",
        "      eval_loss, eval_accuracy = 0, 0\n",
        "      nb_eval_steps, nb_eval_examples = 0, 0\n",
        "      \n",
        "      t0 = time.time()\n",
        "      for batch in val_dataloader:\n",
        "          b_input_ids, b_input_mask, b_labels = tuple(t.to(device) for t in batch)\n",
        "\n",
        "          with torch.no_grad():  \n",
        "              outputs = model(b_input_ids, \n",
        "                              token_type_ids=None, \n",
        "                              attention_mask=b_input_mask)\n",
        "\n",
        "          logits = outputs[0]\n",
        "\n",
        "          logits = logits.cpu().numpy()\n",
        "          label_ids = b_labels.cpu().numpy()\n",
        "          tmp_eval_accuracy = flat_accuracy(logits, label_ids)\n",
        "          eval_accuracy += tmp_eval_accuracy\n",
        "          nb_eval_steps += 1\n",
        "\n",
        "      print(\"  Accuracy: {0:.2f}\".format(eval_accuracy/nb_eval_steps))\n",
        "      print(\"  Validation took: {:}\".format(format_time(time.time() - t0)))\n",
        "\n",
        "      print(\"\")\n",
        "      print(\"Training complete!\")"
      ],
      "execution_count": null,
      "outputs": []
    },
    {
      "cell_type": "markdown",
      "metadata": {
        "id": "mHHYNRUQ_W8L"
      },
      "source": [
        "#### Save model"
      ]
    },
    {
      "cell_type": "code",
      "metadata": {
        "id": "t_up7EFs-4u6"
      },
      "source": [
        "if FINETUNE:\n",
        "  \n",
        "  OUT_PATH = Path.cwd() / \"model\"\n",
        "  OUT_PATH.mkdir(parents=True)\n",
        "  model.save_pretrained(OUT_PATH)\n",
        "  tokenizer.save_pretrained(OUT_PATH)"
      ],
      "execution_count": null,
      "outputs": []
    },
    {
      "cell_type": "markdown",
      "metadata": {
        "id": "Mxroo66fveas"
      },
      "source": [
        "### Embed tweets"
      ]
    },
    {
      "cell_type": "markdown",
      "metadata": {
        "id": "SLzhM-AgG4ae"
      },
      "source": [
        "#### Initialize model"
      ]
    },
    {
      "cell_type": "code",
      "metadata": {
        "id": "L82yqp-FKJ-M"
      },
      "source": [
        "class BertForClustering(BertPreTrainedModel):\n",
        "    def __init__(self, config):\n",
        "        super().__init__(config)\n",
        "        self.bert = BertModel(config)\n",
        "        self.init_weights()\n",
        "\n",
        "    def forward(\n",
        "        self,\n",
        "        input_ids=None,\n",
        "        attention_mask=None,\n",
        "        token_type_ids=None,\n",
        "        position_ids=None,\n",
        "        head_mask=None,\n",
        "        inputs_embeds=None,\n",
        "    ):\n",
        "        outputs = self.bert(\n",
        "            input_ids,\n",
        "            attention_mask=attention_mask,\n",
        "            token_type_ids=token_type_ids,\n",
        "            position_ids=position_ids,\n",
        "            head_mask=head_mask,\n",
        "            inputs_embeds=inputs_embeds,\n",
        "        )\n",
        "        output, pooled, hidden, attention = outputs\n",
        "\n",
        "        pad_mask = (input_ids != self.config.pad_token_id).unsqueeze(-1)\n",
        "        mean_pooled = (output * pad_mask).sum(axis=1) / pad_mask.sum(axis=1)\n",
        "        \n",
        "        # attention shape: (layer, bsz, head, token, attention)\n",
        "        # want attention of CLS token (in position 0) from last layer\n",
        "        # averaged over heads and normalized\n",
        "        cls_attn = attention[-1][:,:,0,:].mean(axis=1)\n",
        "        cls_attn = cls_attn / cls_attn.sum(axis=1).unsqueeze(-1)\n",
        "\n",
        "        return mean_pooled, cls_attn"
      ],
      "execution_count": null,
      "outputs": []
    },
    {
      "cell_type": "code",
      "metadata": {
        "id": "XSK-idqDvfjR"
      },
      "source": [
        "# helper method to get word-level attentions from token-level\n",
        "def get_word_level_attns(\n",
        "        input_ids: torch.LongTensor, \n",
        "        cls_attn: torch.FloatTensor, \n",
        "        ids_to_tokens: Dict[int, str],\n",
        "        ) -> Tuple[List[str], List[float]]:\n",
        "    batch_words = []\n",
        "    batch_attn_scores = []\n",
        "    num_subwords = 1\n",
        "    for i, (iids, attns) in enumerate(zip(input_ids, cls_attn)):\n",
        "        batch_words += [[]]\n",
        "        batch_attn_scores += [[]]\n",
        "        for iid, attn in zip(iids, attns):\n",
        "            token = ids_to_tokens[iid.item()]\n",
        "            if token in ['[CLS]', '[SEP]', '[PAD]']:\n",
        "                continue\n",
        "            if token.startswith(\"##\"):\n",
        "                batch_words[i][-1] += token[2:]\n",
        "                batch_attn_scores[i][-1] += attn.item()\n",
        "                num_subwords += 1\n",
        "            else:\n",
        "                # average score of previous word (if it exists)\n",
        "                if len(batch_attn_scores[i]):\n",
        "                    batch_attn_scores[i][-1] /= num_subwords\n",
        "                    num_subwords = 1\n",
        "                # start new word\n",
        "                batch_words[i] += [token]\n",
        "                batch_attn_scores[i] += [attn.item()]\n",
        "    return batch_words, batch_attn_scores"
      ],
      "execution_count": null,
      "outputs": []
    },
    {
      "cell_type": "code",
      "metadata": {
        "id": "khQX10OOXSlU",
        "colab": {
          "base_uri": "https://localhost:8080/"
        },
        "outputId": "84dcfdc6-8e3e-4298-f15c-4c2a409e06dc"
      },
      "source": [
        "if FINETUNE:\n",
        "  MODEL_PATH = Path.cwd() / \"model\"\n",
        "else:\n",
        "  if not Path(\"model_save_attention_1epoch\").exists():\n",
        "    !gdown --id 1jnQVZpdsFIAbV8J7szUjtfQ0uXo_NOh_\n",
        "    !unzip model_save_attention_1epoch.zip\n",
        "  MODEL_PATH = Path.cwd() / \"model_save_attention_1epoch\"\n",
        "\n",
        "\n",
        "model = BertForClustering.from_pretrained(MODEL_PATH).to(device).eval()\n",
        "tokenizer = BertTokenizer.from_pretrained(MODEL_PATH, do_lower_case=True)\n",
        "model.config.pad_token_id = tokenizer.pad_token_id"
      ],
      "execution_count": null,
      "outputs": [
        {
          "output_type": "stream",
          "text": [
            "Downloading...\n",
            "From: https://drive.google.com/uc?id=1jnQVZpdsFIAbV8J7szUjtfQ0uXo_NOh_\n",
            "To: /content/model_save_attention_1epoch.zip\n",
            "446MB [00:05, 82.5MB/s]\n",
            "Archive:  model_save_attention_1epoch.zip\n",
            "   creating: model_save_attention_1epoch/\n",
            "  inflating: model_save_attention_1epoch/special_tokens_map.json  \n",
            " extracting: model_save_attention_1epoch/tokenizer_config.json  \n",
            "  inflating: model_save_attention_1epoch/pytorch_model.bin  \n",
            "   creating: model_save_attention_1epoch/.ipynb_checkpoints/\n",
            "  inflating: model_save_attention_1epoch/.ipynb_checkpoints/config-checkpoint.json  \n",
            "  inflating: model_save_attention_1epoch/config.json  \n",
            "  inflating: model_save_attention_1epoch/outputs.pkl  \n",
            " extracting: model_save_attention_1epoch/loss_values.pkl  \n",
            "  inflating: model_save_attention_1epoch/vocab.txt  \n"
          ],
          "name": "stdout"
        }
      ]
    },
    {
      "cell_type": "code",
      "metadata": {
        "id": "ibunwOnUsNyM"
      },
      "source": [
        "bert_baseline = BertForClustering.from_pretrained(\n",
        "    'bert-base-uncased',output_attentions=True, output_hidden_states=True\n",
        "    ).to(device).eval()\n",
        "tokenizer = BertTokenizer.from_pretrained('bert-base-uncased', do_lower_case=True)\n",
        "bert_baseline.config.pad_token_id = tokenizer.pad_token_id"
      ],
      "execution_count": null,
      "outputs": []
    },
    {
      "cell_type": "markdown",
      "metadata": {
        "id": "Lv7JGACYgy3I"
      },
      "source": [
        "#### Compute embeds and attentions"
      ]
    },
    {
      "cell_type": "code",
      "metadata": {
        "id": "ytgPMicPhO1o",
        "colab": {
          "base_uri": "https://localhost:8080/"
        },
        "outputId": "c5b12e47-c1da-4ee2-e7f8-e12cd0c361b9"
      },
      "source": [
        "input_ids = tokenizer.batch_encode_plus(nlwx_df.text, add_special_tokens=True, \n",
        "                                        return_tensors='pt')['input_ids']\n",
        "print(f\"Encoded {len(input_ids)} examples, with max length {input_ids.shape[-1]}\")"
      ],
      "execution_count": null,
      "outputs": [
        {
          "output_type": "stream",
          "text": [
            "Encoded 21797 examples, with max length 117\n"
          ],
          "name": "stdout"
        }
      ]
    },
    {
      "cell_type": "code",
      "metadata": {
        "id": "a8Jox2HGiXMo",
        "colab": {
          "base_uri": "https://localhost:8080/",
          "height": 66,
          "referenced_widgets": [
            "c7e41815146f4e8c8b2130373ef35029",
            "4edb7e0043b74a869f5df5dc6b2c79a4",
            "ca943afe8a884e7ea87360448711bd0e",
            "7b226095aba2447989dc5b0c97623db7",
            "37fff529d2234b74a89c557f2d3a1f30",
            "b449a0ea4f8040c5bce6e3092811b546",
            "752e0a9bd4c14f44afe5ef6a07c9a7d0",
            "498d7696f0c04930a1d3bafae98f3ecb"
          ]
        },
        "outputId": "fd24ddf2-d70b-4b10-8de6-ebed06732ab9"
      },
      "source": [
        "EMBED_BSZ = 128\n",
        "torch.cuda.empty_cache()\n",
        "\n",
        "batch_embeds = []\n",
        "batch_words = []\n",
        "batch_word_attns = []\n",
        "batch_embeds_bert = []\n",
        "batch_words_bert = []\n",
        "batch_word_attns_bert = []\n",
        "for i in tqdm(list(range(0, len(input_ids), EMBED_BSZ))):\n",
        "    batch = input_ids[i:i+EMBED_BSZ].to(device)\n",
        "    with torch.no_grad():\n",
        "        embeds, cls_attn = model(batch)\n",
        "        words, attns = get_word_level_attns(batch, cls_attn, tokenizer.ids_to_tokens)\n",
        "        embeds_bert, cls_attn_bert = bert_baseline(batch)\n",
        "        words_bert, attns_bert = get_word_level_attns(batch, cls_attn_bert, tokenizer.ids_to_tokens)\n",
        "    batch_embeds += [embeds.cpu().numpy()]\n",
        "    batch_words += [words]\n",
        "    batch_word_attns += [attns]\n",
        "    batch_embeds_bert += [embeds_bert.cpu().numpy()]\n",
        "    batch_words_bert += [words_bert]\n",
        "    batch_word_attns_bert += [attns_bert]\n",
        "\n",
        "# concatenate batches\n",
        "batch_embeds = np.concatenate(batch_embeds)\n",
        "batch_words = list(itertools.chain(*batch_words))\n",
        "batch_word_attns = list(itertools.chain(*batch_word_attns))\n",
        "batch_embeds_bert = np.concatenate(batch_embeds_bert)\n",
        "batch_words_bert = list(itertools.chain(*batch_words_bert))\n",
        "batch_word_attns_bert = list(itertools.chain(*batch_word_attns_bert))"
      ],
      "execution_count": null,
      "outputs": [
        {
          "output_type": "display_data",
          "data": {
            "application/vnd.jupyter.widget-view+json": {
              "model_id": "c7e41815146f4e8c8b2130373ef35029",
              "version_major": 2,
              "version_minor": 0
            },
            "text/plain": [
              "HBox(children=(FloatProgress(value=0.0, max=171.0), HTML(value='')))"
            ]
          },
          "metadata": {
            "tags": []
          }
        },
        {
          "output_type": "stream",
          "text": [
            "\n"
          ],
          "name": "stdout"
        }
      ]
    },
    {
      "cell_type": "markdown",
      "metadata": {
        "id": "GWcWqf83vgnq"
      },
      "source": [
        "### Cluster tweets"
      ]
    },
    {
      "cell_type": "code",
      "metadata": {
        "id": "_fWzCICAVb02"
      },
      "source": [
        "def topics_df(topics, components, n_words = 20):\n",
        "    df = {}\n",
        "    for i in range(topics):\n",
        "        words = sorted(components[i], key=components[i].get, reverse=True)[:n_words]\n",
        "        df['topic %d' % (i)] = words\n",
        "        if len(words) < n_words:\n",
        "            df['topic %d' % (i)].extend([''] * (n_words - len(words)))\n",
        "    return pd.DataFrame.from_dict(df)\n",
        "\n",
        "def get_stopwords(hashtags = [], \n",
        "                  URL = 'https://drive.google.com/uc?export=download&id=1DcYzpMB-3Dbp7IEtmTbTd4DIgtz9ut6I'):\n",
        "  r = requests.get(URL)\n",
        "  stopwords = json.loads(r.text)\n",
        "  stopwords.extend(['#', '@', '…', \"'\", \"’\", \"[unk]\", \"\\\"\", \";\", \n",
        "                    \"*\", \"_\", \"amp\", \"&\", \"“\", \"”\"] + hashtags)\n",
        "  return(stopwords)\n",
        "\n",
        "stopwords_bert = get_stopwords()"
      ],
      "execution_count": null,
      "outputs": []
    },
    {
      "cell_type": "code",
      "metadata": {
        "id": "D-DPQKQJUjLy"
      },
      "source": [
        "URL_RE = r'(https?:\\/\\/(?:www\\.|(?!www))[a-zA-Z0-9][a-zA-Z0-9-]+[a-zA-Z0-9]\\.[^\\s]{2,}|www\\.[a-zA-Z0-9][a-zA-Z0-9-]+[a-zA-Z0-9]\\.[^\\s]{2,}|https?:\\/\\/(?:www\\.|(?!www))[a-zA-Z0-9]+\\.[^\\s]{2,}|www\\.[a-zA-Z0-9]+\\.[^\\s]{2,})'\n",
        "\n",
        "class BertTopicModel():\n",
        "    def __init__(self, texts, attentions, embeddings, n_clusters):\n",
        "        self.texts = texts\n",
        "        self.attentions = attentions\n",
        "        self.embeddings = embeddings\n",
        "        self.n_clusters = n_clusters\n",
        "        self.filtered_a = []\n",
        "        self.filtered_t = [] \n",
        "        self.filtered_l = []\n",
        "        \n",
        "    def get_clusters(self):\n",
        "        print(\"Fitting kmeans model.\")\n",
        "        kmeans = KMeans(n_clusters = self.n_clusters, random_state = 0).fit(self.embeddings)\n",
        "        self.labels = kmeans.labels_\n",
        "        self._get_label_counts()\n",
        "        return self.labels\n",
        "    \n",
        "    def get_features(self, stopwords, phrasing = False,min_count=5, threshold=100):\n",
        "        self._filter_data(stopwords)\n",
        "        if phrasing == True:\n",
        "            self._get_phrases(min_count=min_count, threshold=threshold)\n",
        "        else:\n",
        "            self.features = self.filtered_t\n",
        "        print(len(self.features))\n",
        "        self._remove_ifreq_words()\n",
        "        print(len(self.features))\n",
        "        return self.features\n",
        "        \n",
        "    def _filter_data(self, stopwords):\n",
        "        url_re = URL_RE\n",
        "        print(\"Filtering attentions.\")\n",
        "        for idx, a in enumerate(self.attentions):\n",
        "            f = [(i[0].lower(), i[1]) for i in a]\n",
        "            f = [(Word(i[0]).lemmatize(), i[1]) \n",
        "                 for i in f if (i[0] not in stopwords) \n",
        "                 and (not re.match(url_re, i[0]))\n",
        "                 and (i[0].find('snowmageddon2020') == -1)]\n",
        "            f_txt = [re.sub('[^a-zA-Z]+', '', w[0]) for w in f]\n",
        "            f = [(re.sub('[^a-zA-Z]+', '', w[0]), w[1]) for w in f]\n",
        "            if len(f) > 1:\n",
        "                self.filtered_a.append(f)\n",
        "                self.filtered_t.append(f_txt)\n",
        "                self.filtered_l.append(self.labels[idx])\n",
        "                \n",
        "    def determine_cluster_components(self, ngram):\n",
        "        print(\"\"\"\n",
        "    Determining cluster components. This will take a while. \n",
        "    Progress will be printed for every 500th processed property.\n",
        "        \"\"\")\n",
        "        components = {}\n",
        "        words_label = {}\n",
        "        start_time = time.time()\n",
        "        for idx, label in enumerate(self.filtered_l):\n",
        "            if label not in components:\n",
        "                components[label] = {}\n",
        "                words_label[label] = []\n",
        "            else:\n",
        "                f = self._generate_ngram(self.filtered_a[idx], ngram)\n",
        "                for w in f:\n",
        "                    word = ' '.join([r[0] for r in w])\n",
        "                    score = np.mean([r[1] for r in w])\n",
        "                    if word in self.features[idx]:\n",
        "                        if word in components[label]:\n",
        "                            components[label][word] += score\n",
        "                        else:\n",
        "                            components[label][word] = score\n",
        "                        words_label[label].append(word)\n",
        "            if (idx + 1) % 5000 == 0:\n",
        "                print(f'Processed {(idx + 1)} texts in {round(time.time() - start_time, 2)} seconds.')\n",
        "\n",
        "        print(f\"Finished determining a total of {idx + 1} cluster components.\\\n",
        "        Total time {round(time.time() - start_time, 2)} seconds.\")\n",
        "        self.components = components \n",
        "        self.words_label = words_label\n",
        "        return self.components, self.words_label\n",
        "    \n",
        "    def get_tfidf_components(self, max_df = 1.0, stf = False):\n",
        "        tfidf_indexed = self._tf_icf(max_df, stf)\n",
        "        components_tfidf_attn = {}\n",
        "        components_tfidf = {}\n",
        "        for k1 in self.components:\n",
        "            components_tfidf_attn[k1] = {}\n",
        "            components_tfidf[k1] = {}\n",
        "            for k2 in self.components[k1]:\n",
        "                try:\n",
        "                    components_tfidf_attn[k1][k2] = tfidf_indexed[k1][k2] * self.components[k1][k2]\n",
        "                    components_tfidf[k1][k2] = tfidf_indexed[k1][k2]\n",
        "                except:\n",
        "                    continue\n",
        "        self.components_tfidf = components_tfidf\n",
        "        self.components_tfidf_attn = components_tfidf_attn\n",
        "        return self.components_tfidf,self.components_tfidf_attn\n",
        "    \n",
        "    def reset_model(self):\n",
        "        self.filtered_a = []\n",
        "        self.filtered_t = [] \n",
        "        self.filtered_l = []\n",
        "        self.components = [] \n",
        "        self.words_label = []\n",
        "        self.features = []\n",
        "        self.words_label = []\n",
        "        self.components_tfidf = []\n",
        "        self.components_tfidf_attn = []\n",
        "    \n",
        "    def _get_label_counts(self):\n",
        "        unique, counts = np.unique(self.labels, return_counts=True)\n",
        "        print(\"The number of texts per label are:\")\n",
        "        print(dict(zip(unique, counts)))\n",
        "        \n",
        "    # Generate phrases for topic cluster components using Gensim Phrases() and Phraser() functions:\n",
        "    # https://radimrehurek.com/gensim/models/phrases.html\n",
        "    def _get_phrases(self, min_count=5, threshold=100):\n",
        "        bigram = Phrases(self.filtered_t, min_count=min_count, threshold = threshold) # higher threshold fewer phrases.\n",
        "        trigram = Phrases(bigram[self.filtered_t])  \n",
        "\n",
        "        # 'Phraser' is a wrapper that makes 'Phrases' run faster\n",
        "        bigram_phraser = Phraser(bigram)\n",
        "        trigram_phraser = Phraser(trigram)\n",
        "\n",
        "        phrased_bi = [b for b in bigram[self.filtered_t]]\n",
        "        phrased_tri = [t for t in trigram[[b for b in bigram[self.filtered_t]]]]\n",
        "        self.features = [[w.replace('_', ' ') for w in sublist] for sublist in phrased_bi]\n",
        "        \n",
        "    def _remove_ifreq_words(self, vocab_threshold = 10):\n",
        "        texts = [word for words in self.features for word in words]\n",
        "        vocab = self._get_frequent_vocab(texts, threshold = vocab_threshold)\n",
        "        updated_f = []\n",
        "        for f in self.features:\n",
        "            updated_f.append([word for word in f if word in vocab and len(word) > 0])\n",
        "        self.features = updated_f\n",
        "    \n",
        "    def _get_frequent_vocab(self, corpus, threshold=10):\n",
        "        '''\n",
        "        Gets words whose frequency exceeds that of the threshold\n",
        "        in a given corpus.\n",
        "        :param corpus: list of tokenized words\n",
        "        :param threshold:\n",
        "        :return: list of words with higher frequency than threshold\n",
        "        '''\n",
        "        freq = Counter(corpus)\n",
        "        filtered = [word for word, count in freq.items() if count >= threshold]\n",
        "        return filtered\n",
        "    \n",
        "    def _generate_ngram(self, \n",
        "                        seq, \n",
        "                        ngram = (1, 3)):\n",
        "        g = []\n",
        "        for i in range(ngram[0], ngram[-1] + 1):\n",
        "            g.extend(list(self._ngrams_generator(seq, i)))\n",
        "        return g\n",
        "    \n",
        "    def _ngrams_generator(\n",
        "        self,\n",
        "        sequence,\n",
        "        n,\n",
        "        pad_left = False,\n",
        "        pad_right = False,\n",
        "        left_pad_symbol = None,\n",
        "        right_pad_symbol = None):\n",
        "        \"\"\"\n",
        "        generate ngrams.\n",
        "\n",
        "        Parameters\n",
        "        ----------\n",
        "        sequence : list of str\n",
        "            list of tokenize words.\n",
        "        n : int\n",
        "            ngram size\n",
        "\n",
        "        Returns\n",
        "        -------\n",
        "        ngram: list\n",
        "        \"\"\"\n",
        "        sequence = self._pad_sequence(\n",
        "            sequence, n, pad_left, pad_right, left_pad_symbol, right_pad_symbol\n",
        "        )\n",
        "\n",
        "        history = []\n",
        "        while n > 1:\n",
        "            try:\n",
        "                next_item = next(sequence)\n",
        "            except StopIteration:\n",
        "                return\n",
        "            history.append(next_item)\n",
        "            n -= 1\n",
        "        for item in sequence:\n",
        "            history.append(item)\n",
        "            yield tuple(history)\n",
        "            del history[0]\n",
        "            \n",
        "    # Pad sequence helper funtion for ngram generator.\n",
        "    # Implemented from block 14 of commit 9895ee0 at:\n",
        "    # https://github.com/huseinzol05/NLP-Models-Tensorflow/blob/master/topic-model/2.bert-topic.ipynb\n",
        "    def _pad_sequence(\n",
        "        self,\n",
        "        sequence,\n",
        "        n,\n",
        "        pad_left = False,\n",
        "        pad_right = False,\n",
        "        left_pad_symbol = None,\n",
        "        right_pad_symbol = None):\n",
        "        \n",
        "        sequence = iter(sequence)\n",
        "        if pad_left:\n",
        "            sequence = itertools.chain((left_pad_symbol,) * (n - 1), sequence)\n",
        "        if pad_right:\n",
        "            sequence = itertools.chain(sequence, (right_pad_symbol,) * (n - 1))\n",
        "        return sequence\n",
        "    \n",
        "    def _tf_icf(self, max_df, stf):\n",
        "        def dummy_fun(doc):\n",
        "            return doc\n",
        "        \n",
        "        tfidf_vectorizer = TfidfVectorizer(\n",
        "            analyzer='word',\n",
        "            tokenizer=dummy_fun,\n",
        "            preprocessor=dummy_fun,\n",
        "            token_pattern=None,\n",
        "            max_df = max_df,\n",
        "            sublinear_tf = stf)\n",
        "\n",
        "        tf_idf_corpus = [[item for item in self.words_label[key]] for key in range(self.n_clusters)]\n",
        "        transformed = tfidf_vectorizer.fit_transform(tf_idf_corpus)\n",
        "        index_value={i[1]:i[0] for i in tfidf_vectorizer.vocabulary_.items()}\n",
        "        fully_indexed = []\n",
        "        for row in transformed:\n",
        "            fully_indexed.append({index_value[column]:value for (column,value) in zip(row.indices,row.data)})\n",
        "        return(fully_indexed)\n",
        "    "
      ],
      "execution_count": null,
      "outputs": []
    },
    {
      "cell_type": "code",
      "metadata": {
        "id": "XnolHVVGRR9b"
      },
      "source": [
        "class TopicSearch():\n",
        "    def __init__(self,\n",
        "                 embeddings = batch_embeds,\n",
        "                 texts = batch_words,\n",
        "                 attns = batch_word_attns,\n",
        "                 stopwords=stopwords_bert):\n",
        "        self.topics = {}\n",
        "        self.embeddings = embeddings\n",
        "        self.texts = texts\n",
        "        self.attns = attns\n",
        "        self.hyperparams = {}\n",
        "        self.stopwords = stopwords\n",
        "\n",
        "    def search(self,\n",
        "               ngrams=[1,2], \n",
        "               max_df=[0.6, 0.7, 0.8, 0.85, 0.9, 1.0],\n",
        "               stf=[True, False],\n",
        "               n_topics=[5,10,15],\n",
        "               hashtags=[],\n",
        "               hashtag_opts=[True, False],\n",
        "               phrasing=[True, False],\n",
        "               p_min_count=5,\n",
        "               p_threshold=100,\n",
        "               embedding_name='fte'):\n",
        "\n",
        "      e = embedding_name\n",
        "      self.hyperparams[e] = {}\n",
        "      for t in n_topics:\n",
        "        self._init_model(t)\n",
        "        self.hyperparams[e][t] = {}\n",
        "        self.hyperparams[e][t]['hashtags'] = {}\n",
        "        for h in hashtag_opts:\n",
        "          self.hyperparams[e][t]['hashtags'][h] = {}\n",
        "          self.hyperparams[e][t]['hashtags'][h]['ngram'] = {}\n",
        "          for n in ngrams:\n",
        "            ngram = (1, n)\n",
        "            self.hyperparams[e][t]['hashtags'][h]['ngram'][n] = {}\n",
        "            self.hyperparams[e][t]['hashtags'][h]['ngram'][n]['stf'] = {}\n",
        "            for s in stf:\n",
        "              self.hyperparams[e][t]['hashtags'][h]['ngram'][n]['stf'][s] = {}\n",
        "              self.hyperparams[e][t]['hashtags'][h]['ngram'][n]['stf'][s]['max_df'] = {}\n",
        "              for m in max_df:\n",
        "                self.hyperparams[e][t]['hashtags'][h]['ngram'][n]['stf'][s]['max_df'][m] = {}\n",
        "                self.hyperparams[e][t]['hashtags'][h]['ngram'][n]['stf'][s]['max_df'][m]['phrasing'] = {}\n",
        "                for p in phrasing:\n",
        "                  self.hyperparams[e][t]['hashtags'][h]['ngram'][n]['stf'][s]['max_df'][m]['phrasing'][p] = {}\n",
        "                  features = self.bertTM.get_features(stopwords=self.stopwords,\n",
        "                                                      phrasing=p,\n",
        "                                                      min_count=p_min_count,\n",
        "                                                      threshold=p_threshold)\n",
        "                  print(f'Getting components for kmeans model for '\n",
        "                        f'{t} topics, phrasing {p}, {n} ngrams, mdf {m} and stf {s}.')\n",
        "                  components, words_label = self.bertTM.determine_cluster_components(ngram)\n",
        "                  components_tfidf, components_tfidf_attn = self.bertTM.get_tfidf_components(max_df = m,\n",
        "                                                                                            stf = s)\n",
        "                  print(f'Determining topics for kmeans model with '\n",
        "                        f'{t} topics, phrasing {p}, {n} ngrams, mdf {m} and stf {s}.')\n",
        "                  self._store_hyperparams(e,t,h,s,m,p, n, features, \n",
        "                                          components, components_tfidf, components_tfidf_attn)\n",
        "                  self.bertTM.reset_model()\n",
        "\n",
        "    def _store_hyperparams(self,e,t,h,s,m,p, n, features, \n",
        "                           c, ctf, ctfa):\n",
        "        self.hyperparams[e][t]['hashtags'][h]['ngram'][n]['stf'][s]['max_df'][m]['phrasing'][p]['features'] = features\n",
        "        self.hyperparams[e][t]['hashtags'][h]['ngram'][n]['stf'][s]['max_df'][m]['phrasing'][p]['topics_attn'] = self._gen_topics(t, c)\n",
        "        self.hyperparams[e][t]['hashtags'][h]['ngram'][n]['stf'][s]['max_df'][m]['phrasing'][p]['topics_tfidf'] = self._gen_topics(t, ctf)\n",
        "        self.hyperparams[e][t]['hashtags'][h]['ngram'][n]['stf'][s]['max_df'][m]['phrasing'][p]['topics_tfidf_attn'] = self._gen_topics(t, ctfa)\n",
        "    \n",
        "    def _cluster_embeds(\n",
        "        n_clusters: int\n",
        "        ) -> Tuple[KMeans, np.ndarray]:\n",
        "        kmeans = KMeans(n_clusters = N_CLUSTERS, random_state = 0)\n",
        "        self.klabels = kmeans.fit_predict(self.embeddings)\n",
        "        unique, counts = np.unique(kmeans.labels_, return_counts=True)\n",
        "        print(\"The number of texts per label are:\")\n",
        "        print(dict(zip(unique, counts)))\n",
        "\n",
        "    def _init_model(self, t):\n",
        "        # Run kmeans model\n",
        "        print(f\"Running kmeans model with {t} topics.\")\n",
        "        self.bertTM = BertTopicModel(\n",
        "            texts = self.texts, \n",
        "            attentions = self.attns, \n",
        "            embeddings = self.embeddings,\n",
        "            n_clusters = t)\n",
        "        self.labels = self.bertTM.get_clusters()\n",
        "    \n",
        "    def _gen_topics(self, t, components, n_words = 10):\n",
        "        print(f\"Determining topics for kmeans model for with {t} topics.\")\n",
        "        topics = topics_df(topics = t, components = components, n_words = n_words)\n",
        "        return topics\n"
      ],
      "execution_count": null,
      "outputs": []
    },
    {
      "cell_type": "code",
      "metadata": {
        "id": "9GCLZJi_UP9e"
      },
      "source": [
        "ngrams=[1]\n",
        "max_df=[0.7, 0.8, 0.85]\n",
        "stf=[True]\n",
        "n_topics=[5,9,10,15]\n",
        "hashtag_opts=[False]\n",
        "phrasing=[False]\n",
        "p_min_count=5\n",
        "p_threshold=100\n",
        "hashtags =  ['nlwhiteout', 'nlweather', 'newfoundland', \n",
        "             'nlblizzard2020', 'nlstm2020','snowmaggedon2020', \n",
        "             'stmageddon2020','stormageddon2020', 'newfoundland2020',\n",
        "             'snowpocalypse2020','snowmageddon','nlstm', \n",
        "             'nlwx', 'nlwx2020','nlblizzard', 'nlstorm2020']"
      ],
      "execution_count": null,
      "outputs": []
    },
    {
      "cell_type": "code",
      "metadata": {
        "id": "7EJwoea_RX8j",
        "colab": {
          "base_uri": "https://localhost:8080/"
        },
        "outputId": "1b21c0d6-ea72-40b0-fd74-2a64331742e2"
      },
      "source": [
        "batch_words_attn_pairs = [list(zip(batch_words[i], batch_word_attns[i])) for i in range(0, len(batch_words))] \n",
        "\n",
        "ts = TopicSearch(embeddings = batch_embeds,\n",
        "                 texts = batch_words,\n",
        "                 attns = batch_words_attn_pairs,\n",
        "                 stopwords=stopwords_bert)\n",
        "ts.search(ngrams=ngrams,\n",
        "          max_df=max_df,\n",
        "          stf=stf,\n",
        "          n_topics = n_topics,\n",
        "          hashtags = hashtags,\n",
        "          hashtag_opts = hashtag_opts,\n",
        "          phrasing = phrasing,\n",
        "          p_min_count=5,\n",
        "          p_threshold=100,\n",
        "          embedding_name='fte')"
      ],
      "execution_count": null,
      "outputs": [
        {
          "output_type": "stream",
          "text": [
            "Running kmeans model with 5 topics.\n",
            "Fitting kmeans model.\n",
            "The number of texts per label are:\n",
            "{0: 9570, 1: 5693, 2: 857, 3: 2991, 4: 2686}\n",
            "Filtering attentions.\n",
            "21766\n",
            "21766\n",
            "Getting components for kmeans model for 5 topics, phrasing False, 1 ngrams, mdf 0.7 and stf True.\n",
            "\n",
            "    Determining cluster components. This will take a while. \n",
            "    Progress will be printed for every 500th processed property.\n",
            "        \n",
            "Processed 5000 texts in 0.75 seconds.\n",
            "Processed 10000 texts in 1.52 seconds.\n",
            "Processed 15000 texts in 2.3 seconds.\n",
            "Processed 20000 texts in 3.09 seconds.\n",
            "Finished determining a total of 21766 cluster components.        Total time 3.35 seconds.\n",
            "Determining topics for kmeans model with 5 topics, phrasing False, 1 ngrams, mdf 0.7 and stf True.\n",
            "Determining topics for kmeans model for with 5 topics.\n",
            "Determining topics for kmeans model for with 5 topics.\n",
            "Determining topics for kmeans model for with 5 topics.\n",
            "Filtering attentions.\n",
            "21766\n",
            "21766\n",
            "Getting components for kmeans model for 5 topics, phrasing False, 1 ngrams, mdf 0.8 and stf True.\n",
            "\n",
            "    Determining cluster components. This will take a while. \n",
            "    Progress will be printed for every 500th processed property.\n",
            "        \n",
            "Processed 5000 texts in 0.76 seconds.\n",
            "Processed 10000 texts in 1.51 seconds.\n",
            "Processed 15000 texts in 2.27 seconds.\n",
            "Processed 20000 texts in 3.07 seconds.\n",
            "Finished determining a total of 21766 cluster components.        Total time 3.32 seconds.\n",
            "Determining topics for kmeans model with 5 topics, phrasing False, 1 ngrams, mdf 0.8 and stf True.\n",
            "Determining topics for kmeans model for with 5 topics.\n",
            "Determining topics for kmeans model for with 5 topics.\n",
            "Determining topics for kmeans model for with 5 topics.\n",
            "Filtering attentions.\n",
            "21766\n",
            "21766\n",
            "Getting components for kmeans model for 5 topics, phrasing False, 1 ngrams, mdf 0.85 and stf True.\n",
            "\n",
            "    Determining cluster components. This will take a while. \n",
            "    Progress will be printed for every 500th processed property.\n",
            "        \n",
            "Processed 5000 texts in 0.75 seconds.\n",
            "Processed 10000 texts in 1.52 seconds.\n",
            "Processed 15000 texts in 2.29 seconds.\n",
            "Processed 20000 texts in 3.09 seconds.\n",
            "Finished determining a total of 21766 cluster components.        Total time 3.36 seconds.\n",
            "Determining topics for kmeans model with 5 topics, phrasing False, 1 ngrams, mdf 0.85 and stf True.\n",
            "Determining topics for kmeans model for with 5 topics.\n",
            "Determining topics for kmeans model for with 5 topics.\n",
            "Determining topics for kmeans model for with 5 topics.\n",
            "Running kmeans model with 9 topics.\n",
            "Fitting kmeans model.\n",
            "The number of texts per label are:\n",
            "{0: 953, 1: 5064, 2: 1107, 3: 664, 4: 2678, 5: 826, 6: 4312, 7: 1875, 8: 4318}\n",
            "Filtering attentions.\n",
            "21766\n",
            "21766\n",
            "Getting components for kmeans model for 9 topics, phrasing False, 1 ngrams, mdf 0.7 and stf True.\n",
            "\n",
            "    Determining cluster components. This will take a while. \n",
            "    Progress will be printed for every 500th processed property.\n",
            "        \n",
            "Processed 5000 texts in 0.76 seconds.\n",
            "Processed 10000 texts in 1.53 seconds.\n",
            "Processed 15000 texts in 2.31 seconds.\n",
            "Processed 20000 texts in 3.1 seconds.\n",
            "Finished determining a total of 21766 cluster components.        Total time 3.37 seconds.\n",
            "Determining topics for kmeans model with 9 topics, phrasing False, 1 ngrams, mdf 0.7 and stf True.\n",
            "Determining topics for kmeans model for with 9 topics.\n",
            "Determining topics for kmeans model for with 9 topics.\n",
            "Determining topics for kmeans model for with 9 topics.\n",
            "Filtering attentions.\n",
            "21766\n",
            "21766\n",
            "Getting components for kmeans model for 9 topics, phrasing False, 1 ngrams, mdf 0.8 and stf True.\n",
            "\n",
            "    Determining cluster components. This will take a while. \n",
            "    Progress will be printed for every 500th processed property.\n",
            "        \n",
            "Processed 5000 texts in 0.81 seconds.\n",
            "Processed 10000 texts in 1.6 seconds.\n",
            "Processed 15000 texts in 2.4 seconds.\n",
            "Processed 20000 texts in 3.18 seconds.\n",
            "Finished determining a total of 21766 cluster components.        Total time 3.45 seconds.\n",
            "Determining topics for kmeans model with 9 topics, phrasing False, 1 ngrams, mdf 0.8 and stf True.\n",
            "Determining topics for kmeans model for with 9 topics.\n",
            "Determining topics for kmeans model for with 9 topics.\n",
            "Determining topics for kmeans model for with 9 topics.\n",
            "Filtering attentions.\n",
            "21766\n",
            "21766\n",
            "Getting components for kmeans model for 9 topics, phrasing False, 1 ngrams, mdf 0.85 and stf True.\n",
            "\n",
            "    Determining cluster components. This will take a while. \n",
            "    Progress will be printed for every 500th processed property.\n",
            "        \n",
            "Processed 5000 texts in 0.78 seconds.\n",
            "Processed 10000 texts in 1.54 seconds.\n",
            "Processed 15000 texts in 2.31 seconds.\n",
            "Processed 20000 texts in 3.11 seconds.\n",
            "Finished determining a total of 21766 cluster components.        Total time 3.38 seconds.\n",
            "Determining topics for kmeans model with 9 topics, phrasing False, 1 ngrams, mdf 0.85 and stf True.\n",
            "Determining topics for kmeans model for with 9 topics.\n",
            "Determining topics for kmeans model for with 9 topics.\n",
            "Determining topics for kmeans model for with 9 topics.\n",
            "Running kmeans model with 10 topics.\n",
            "Fitting kmeans model.\n",
            "The number of texts per label are:\n",
            "{0: 4322, 1: 1085, 2: 789, 3: 4785, 4: 1878, 5: 4075, 6: 651, 7: 2526, 8: 802, 9: 884}\n",
            "Filtering attentions.\n",
            "21766\n",
            "21766\n",
            "Getting components for kmeans model for 10 topics, phrasing False, 1 ngrams, mdf 0.7 and stf True.\n",
            "\n",
            "    Determining cluster components. This will take a while. \n",
            "    Progress will be printed for every 500th processed property.\n",
            "        \n",
            "Processed 5000 texts in 0.74 seconds.\n",
            "Processed 10000 texts in 1.5 seconds.\n",
            "Processed 15000 texts in 2.27 seconds.\n",
            "Processed 20000 texts in 3.08 seconds.\n",
            "Finished determining a total of 21766 cluster components.        Total time 3.33 seconds.\n",
            "Determining topics for kmeans model with 10 topics, phrasing False, 1 ngrams, mdf 0.7 and stf True.\n",
            "Determining topics for kmeans model for with 10 topics.\n",
            "Determining topics for kmeans model for with 10 topics.\n",
            "Determining topics for kmeans model for with 10 topics.\n",
            "Filtering attentions.\n",
            "21766\n",
            "21766\n",
            "Getting components for kmeans model for 10 topics, phrasing False, 1 ngrams, mdf 0.8 and stf True.\n",
            "\n",
            "    Determining cluster components. This will take a while. \n",
            "    Progress will be printed for every 500th processed property.\n",
            "        \n",
            "Processed 5000 texts in 0.75 seconds.\n",
            "Processed 10000 texts in 1.5 seconds.\n",
            "Processed 15000 texts in 2.27 seconds.\n",
            "Processed 20000 texts in 3.06 seconds.\n",
            "Finished determining a total of 21766 cluster components.        Total time 3.31 seconds.\n",
            "Determining topics for kmeans model with 10 topics, phrasing False, 1 ngrams, mdf 0.8 and stf True.\n",
            "Determining topics for kmeans model for with 10 topics.\n",
            "Determining topics for kmeans model for with 10 topics.\n",
            "Determining topics for kmeans model for with 10 topics.\n",
            "Filtering attentions.\n",
            "21766\n",
            "21766\n",
            "Getting components for kmeans model for 10 topics, phrasing False, 1 ngrams, mdf 0.85 and stf True.\n",
            "\n",
            "    Determining cluster components. This will take a while. \n",
            "    Progress will be printed for every 500th processed property.\n",
            "        \n",
            "Processed 5000 texts in 0.75 seconds.\n",
            "Processed 10000 texts in 1.55 seconds.\n",
            "Processed 15000 texts in 2.33 seconds.\n",
            "Processed 20000 texts in 3.13 seconds.\n",
            "Finished determining a total of 21766 cluster components.        Total time 3.39 seconds.\n",
            "Determining topics for kmeans model with 10 topics, phrasing False, 1 ngrams, mdf 0.85 and stf True.\n",
            "Determining topics for kmeans model for with 10 topics.\n",
            "Determining topics for kmeans model for with 10 topics.\n",
            "Determining topics for kmeans model for with 10 topics.\n",
            "Running kmeans model with 15 topics.\n",
            "Fitting kmeans model.\n",
            "The number of texts per label are:\n",
            "{0: 668, 1: 2985, 2: 612, 3: 659, 4: 1121, 5: 1572, 6: 3616, 7: 386, 8: 3316, 9: 458, 10: 1768, 11: 2030, 12: 534, 13: 771, 14: 1301}\n",
            "Filtering attentions.\n",
            "21766\n",
            "21766\n",
            "Getting components for kmeans model for 15 topics, phrasing False, 1 ngrams, mdf 0.7 and stf True.\n",
            "\n",
            "    Determining cluster components. This will take a while. \n",
            "    Progress will be printed for every 500th processed property.\n",
            "        \n",
            "Processed 5000 texts in 0.76 seconds.\n",
            "Processed 10000 texts in 1.52 seconds.\n",
            "Processed 15000 texts in 2.3 seconds.\n",
            "Processed 20000 texts in 3.12 seconds.\n",
            "Finished determining a total of 21766 cluster components.        Total time 3.4 seconds.\n",
            "Determining topics for kmeans model with 15 topics, phrasing False, 1 ngrams, mdf 0.7 and stf True.\n",
            "Determining topics for kmeans model for with 15 topics.\n",
            "Determining topics for kmeans model for with 15 topics.\n",
            "Determining topics for kmeans model for with 15 topics.\n",
            "Filtering attentions.\n",
            "21766\n",
            "21766\n",
            "Getting components for kmeans model for 15 topics, phrasing False, 1 ngrams, mdf 0.8 and stf True.\n",
            "\n",
            "    Determining cluster components. This will take a while. \n",
            "    Progress will be printed for every 500th processed property.\n",
            "        \n",
            "Processed 5000 texts in 0.78 seconds.\n",
            "Processed 10000 texts in 1.55 seconds.\n",
            "Processed 15000 texts in 2.39 seconds.\n",
            "Processed 20000 texts in 3.19 seconds.\n",
            "Finished determining a total of 21766 cluster components.        Total time 3.46 seconds.\n",
            "Determining topics for kmeans model with 15 topics, phrasing False, 1 ngrams, mdf 0.8 and stf True.\n",
            "Determining topics for kmeans model for with 15 topics.\n",
            "Determining topics for kmeans model for with 15 topics.\n",
            "Determining topics for kmeans model for with 15 topics.\n",
            "Filtering attentions.\n",
            "21766\n",
            "21766\n",
            "Getting components for kmeans model for 15 topics, phrasing False, 1 ngrams, mdf 0.85 and stf True.\n",
            "\n",
            "    Determining cluster components. This will take a while. \n",
            "    Progress will be printed for every 500th processed property.\n",
            "        \n",
            "Processed 5000 texts in 0.75 seconds.\n",
            "Processed 10000 texts in 1.53 seconds.\n",
            "Processed 15000 texts in 2.31 seconds.\n",
            "Processed 20000 texts in 3.12 seconds.\n",
            "Finished determining a total of 21766 cluster components.        Total time 3.4 seconds.\n",
            "Determining topics for kmeans model with 15 topics, phrasing False, 1 ngrams, mdf 0.85 and stf True.\n",
            "Determining topics for kmeans model for with 15 topics.\n",
            "Determining topics for kmeans model for with 15 topics.\n",
            "Determining topics for kmeans model for with 15 topics.\n"
          ],
          "name": "stdout"
        }
      ]
    },
    {
      "cell_type": "markdown",
      "metadata": {
        "id": "fcsj9YnZv8DZ"
      },
      "source": [
        "## Baselines"
      ]
    },
    {
      "cell_type": "code",
      "metadata": {
        "id": "t6E1UD7Qv6c3",
        "colab": {
          "base_uri": "https://localhost:8080/"
        },
        "outputId": "9a34588b-a64e-48bf-89e3-7a2e0c371a4d"
      },
      "source": [
        "batch_words_attn_pairs_bert = [list(zip(batch_words_bert[i], batch_word_attns_bert[i])) for i in range(0, len(batch_words_bert))] \n",
        "\n",
        "ts_bert = TopicSearch(embeddings = batch_embeds_bert,\n",
        "                 texts = batch_words_bert,\n",
        "                 attns = batch_words_attn_pairs_bert,\n",
        "                 stopwords=stopwords_bert)\n",
        "ts_bert.search(ngrams=ngrams,\n",
        "          max_df=max_df,\n",
        "          stf=stf,\n",
        "          n_topics = n_topics,\n",
        "          hashtags = hashtags,\n",
        "          hashtag_opts = hashtag_opts,\n",
        "          phrasing = phrasing,\n",
        "          p_min_count=5,\n",
        "          p_threshold=100,\n",
        "          embedding_name='bert')"
      ],
      "execution_count": null,
      "outputs": [
        {
          "output_type": "stream",
          "text": [
            "Running kmeans model with 5 topics.\n",
            "Fitting kmeans model.\n",
            "The number of texts per label are:\n",
            "{0: 1645, 1: 8056, 2: 6676, 3: 4054, 4: 1366}\n",
            "Filtering attentions.\n",
            "21766\n",
            "21766\n",
            "Getting components for kmeans model for 5 topics, phrasing False, 1 ngrams, mdf 0.7 and stf True.\n",
            "\n",
            "    Determining cluster components. This will take a while. \n",
            "    Progress will be printed for every 500th processed property.\n",
            "        \n",
            "Processed 5000 texts in 0.75 seconds.\n",
            "Processed 10000 texts in 1.5 seconds.\n",
            "Processed 15000 texts in 2.28 seconds.\n",
            "Processed 20000 texts in 3.06 seconds.\n",
            "Finished determining a total of 21766 cluster components.        Total time 3.33 seconds.\n",
            "Determining topics for kmeans model with 5 topics, phrasing False, 1 ngrams, mdf 0.7 and stf True.\n",
            "Determining topics for kmeans model for with 5 topics.\n",
            "Determining topics for kmeans model for with 5 topics.\n",
            "Determining topics for kmeans model for with 5 topics.\n",
            "Filtering attentions.\n",
            "21766\n",
            "21766\n",
            "Getting components for kmeans model for 5 topics, phrasing False, 1 ngrams, mdf 0.8 and stf True.\n",
            "\n",
            "    Determining cluster components. This will take a while. \n",
            "    Progress will be printed for every 500th processed property.\n",
            "        \n",
            "Processed 5000 texts in 0.76 seconds.\n",
            "Processed 10000 texts in 1.52 seconds.\n",
            "Processed 15000 texts in 2.3 seconds.\n",
            "Processed 20000 texts in 3.08 seconds.\n",
            "Finished determining a total of 21766 cluster components.        Total time 3.35 seconds.\n",
            "Determining topics for kmeans model with 5 topics, phrasing False, 1 ngrams, mdf 0.8 and stf True.\n",
            "Determining topics for kmeans model for with 5 topics.\n",
            "Determining topics for kmeans model for with 5 topics.\n",
            "Determining topics for kmeans model for with 5 topics.\n",
            "Filtering attentions.\n",
            "21766\n",
            "21766\n",
            "Getting components for kmeans model for 5 topics, phrasing False, 1 ngrams, mdf 0.85 and stf True.\n",
            "\n",
            "    Determining cluster components. This will take a while. \n",
            "    Progress will be printed for every 500th processed property.\n",
            "        \n",
            "Processed 5000 texts in 0.76 seconds.\n",
            "Processed 10000 texts in 1.53 seconds.\n",
            "Processed 15000 texts in 2.31 seconds.\n",
            "Processed 20000 texts in 3.09 seconds.\n",
            "Finished determining a total of 21766 cluster components.        Total time 3.36 seconds.\n",
            "Determining topics for kmeans model with 5 topics, phrasing False, 1 ngrams, mdf 0.85 and stf True.\n",
            "Determining topics for kmeans model for with 5 topics.\n",
            "Determining topics for kmeans model for with 5 topics.\n",
            "Determining topics for kmeans model for with 5 topics.\n",
            "Running kmeans model with 9 topics.\n",
            "Fitting kmeans model.\n",
            "The number of texts per label are:\n",
            "{0: 191, 1: 1288, 2: 2683, 3: 2527, 4: 3310, 5: 1612, 6: 4019, 7: 3286, 8: 2881}\n",
            "Filtering attentions.\n",
            "21766\n",
            "21766\n",
            "Getting components for kmeans model for 9 topics, phrasing False, 1 ngrams, mdf 0.7 and stf True.\n",
            "\n",
            "    Determining cluster components. This will take a while. \n",
            "    Progress will be printed for every 500th processed property.\n",
            "        \n",
            "Processed 5000 texts in 0.74 seconds.\n",
            "Processed 10000 texts in 1.51 seconds.\n",
            "Processed 15000 texts in 2.29 seconds.\n",
            "Processed 20000 texts in 3.09 seconds.\n",
            "Finished determining a total of 21766 cluster components.        Total time 3.35 seconds.\n",
            "Determining topics for kmeans model with 9 topics, phrasing False, 1 ngrams, mdf 0.7 and stf True.\n",
            "Determining topics for kmeans model for with 9 topics.\n",
            "Determining topics for kmeans model for with 9 topics.\n",
            "Determining topics for kmeans model for with 9 topics.\n",
            "Filtering attentions.\n",
            "21766\n",
            "21766\n",
            "Getting components for kmeans model for 9 topics, phrasing False, 1 ngrams, mdf 0.8 and stf True.\n",
            "\n",
            "    Determining cluster components. This will take a while. \n",
            "    Progress will be printed for every 500th processed property.\n",
            "        \n",
            "Processed 5000 texts in 0.74 seconds.\n",
            "Processed 10000 texts in 1.52 seconds.\n",
            "Processed 15000 texts in 2.29 seconds.\n",
            "Processed 20000 texts in 3.08 seconds.\n",
            "Finished determining a total of 21766 cluster components.        Total time 3.37 seconds.\n",
            "Determining topics for kmeans model with 9 topics, phrasing False, 1 ngrams, mdf 0.8 and stf True.\n",
            "Determining topics for kmeans model for with 9 topics.\n",
            "Determining topics for kmeans model for with 9 topics.\n",
            "Determining topics for kmeans model for with 9 topics.\n",
            "Filtering attentions.\n",
            "21766\n",
            "21766\n",
            "Getting components for kmeans model for 9 topics, phrasing False, 1 ngrams, mdf 0.85 and stf True.\n",
            "\n",
            "    Determining cluster components. This will take a while. \n",
            "    Progress will be printed for every 500th processed property.\n",
            "        \n",
            "Processed 5000 texts in 0.76 seconds.\n",
            "Processed 10000 texts in 1.53 seconds.\n",
            "Processed 15000 texts in 2.31 seconds.\n",
            "Processed 20000 texts in 3.11 seconds.\n",
            "Finished determining a total of 21766 cluster components.        Total time 3.36 seconds.\n",
            "Determining topics for kmeans model with 9 topics, phrasing False, 1 ngrams, mdf 0.85 and stf True.\n",
            "Determining topics for kmeans model for with 9 topics.\n",
            "Determining topics for kmeans model for with 9 topics.\n",
            "Determining topics for kmeans model for with 9 topics.\n",
            "Running kmeans model with 10 topics.\n",
            "Fitting kmeans model.\n",
            "The number of texts per label are:\n",
            "{0: 182, 1: 3659, 2: 2287, 3: 2288, 4: 3211, 5: 2992, 6: 1589, 7: 2032, 8: 2269, 9: 1288}\n",
            "Filtering attentions.\n",
            "21766\n",
            "21766\n",
            "Getting components for kmeans model for 10 topics, phrasing False, 1 ngrams, mdf 0.7 and stf True.\n",
            "\n",
            "    Determining cluster components. This will take a while. \n",
            "    Progress will be printed for every 500th processed property.\n",
            "        \n",
            "Processed 5000 texts in 0.75 seconds.\n",
            "Processed 10000 texts in 1.51 seconds.\n",
            "Processed 15000 texts in 2.3 seconds.\n",
            "Processed 20000 texts in 3.08 seconds.\n",
            "Finished determining a total of 21766 cluster components.        Total time 3.36 seconds.\n",
            "Determining topics for kmeans model with 10 topics, phrasing False, 1 ngrams, mdf 0.7 and stf True.\n",
            "Determining topics for kmeans model for with 10 topics.\n",
            "Determining topics for kmeans model for with 10 topics.\n",
            "Determining topics for kmeans model for with 10 topics.\n",
            "Filtering attentions.\n",
            "21766\n",
            "21766\n",
            "Getting components for kmeans model for 10 topics, phrasing False, 1 ngrams, mdf 0.8 and stf True.\n",
            "\n",
            "    Determining cluster components. This will take a while. \n",
            "    Progress will be printed for every 500th processed property.\n",
            "        \n",
            "Processed 5000 texts in 0.75 seconds.\n",
            "Processed 10000 texts in 1.51 seconds.\n",
            "Processed 15000 texts in 2.28 seconds.\n",
            "Processed 20000 texts in 3.08 seconds.\n",
            "Finished determining a total of 21766 cluster components.        Total time 3.35 seconds.\n",
            "Determining topics for kmeans model with 10 topics, phrasing False, 1 ngrams, mdf 0.8 and stf True.\n",
            "Determining topics for kmeans model for with 10 topics.\n",
            "Determining topics for kmeans model for with 10 topics.\n",
            "Determining topics for kmeans model for with 10 topics.\n",
            "Filtering attentions.\n",
            "21766\n",
            "21766\n",
            "Getting components for kmeans model for 10 topics, phrasing False, 1 ngrams, mdf 0.85 and stf True.\n",
            "\n",
            "    Determining cluster components. This will take a while. \n",
            "    Progress will be printed for every 500th processed property.\n",
            "        \n",
            "Processed 5000 texts in 0.75 seconds.\n",
            "Processed 10000 texts in 1.51 seconds.\n",
            "Processed 15000 texts in 2.29 seconds.\n",
            "Processed 20000 texts in 3.08 seconds.\n",
            "Finished determining a total of 21766 cluster components.        Total time 3.34 seconds.\n",
            "Determining topics for kmeans model with 10 topics, phrasing False, 1 ngrams, mdf 0.85 and stf True.\n",
            "Determining topics for kmeans model for with 10 topics.\n",
            "Determining topics for kmeans model for with 10 topics.\n",
            "Determining topics for kmeans model for with 10 topics.\n",
            "Running kmeans model with 15 topics.\n",
            "Fitting kmeans model.\n",
            "The number of texts per label are:\n",
            "{0: 924, 1: 1226, 2: 1678, 3: 1325, 4: 1969, 5: 1988, 6: 181, 7: 1887, 8: 2501, 9: 1882, 10: 1631, 11: 705, 12: 1160, 13: 1226, 14: 1514}\n",
            "Filtering attentions.\n",
            "21766\n",
            "21766\n",
            "Getting components for kmeans model for 15 topics, phrasing False, 1 ngrams, mdf 0.7 and stf True.\n",
            "\n",
            "    Determining cluster components. This will take a while. \n",
            "    Progress will be printed for every 500th processed property.\n",
            "        \n",
            "Processed 5000 texts in 0.76 seconds.\n",
            "Processed 10000 texts in 1.53 seconds.\n",
            "Processed 15000 texts in 2.31 seconds.\n",
            "Processed 20000 texts in 3.12 seconds.\n",
            "Finished determining a total of 21766 cluster components.        Total time 3.38 seconds.\n",
            "Determining topics for kmeans model with 15 topics, phrasing False, 1 ngrams, mdf 0.7 and stf True.\n",
            "Determining topics for kmeans model for with 15 topics.\n",
            "Determining topics for kmeans model for with 15 topics.\n",
            "Determining topics for kmeans model for with 15 topics.\n",
            "Filtering attentions.\n",
            "21766\n",
            "21766\n",
            "Getting components for kmeans model for 15 topics, phrasing False, 1 ngrams, mdf 0.8 and stf True.\n",
            "\n",
            "    Determining cluster components. This will take a while. \n",
            "    Progress will be printed for every 500th processed property.\n",
            "        \n",
            "Processed 5000 texts in 0.75 seconds.\n",
            "Processed 10000 texts in 1.52 seconds.\n",
            "Processed 15000 texts in 2.3 seconds.\n",
            "Processed 20000 texts in 3.09 seconds.\n",
            "Finished determining a total of 21766 cluster components.        Total time 3.35 seconds.\n",
            "Determining topics for kmeans model with 15 topics, phrasing False, 1 ngrams, mdf 0.8 and stf True.\n",
            "Determining topics for kmeans model for with 15 topics.\n",
            "Determining topics for kmeans model for with 15 topics.\n",
            "Determining topics for kmeans model for with 15 topics.\n",
            "Filtering attentions.\n",
            "21766\n",
            "21766\n",
            "Getting components for kmeans model for 15 topics, phrasing False, 1 ngrams, mdf 0.85 and stf True.\n",
            "\n",
            "    Determining cluster components. This will take a while. \n",
            "    Progress will be printed for every 500th processed property.\n",
            "        \n",
            "Processed 5000 texts in 0.74 seconds.\n",
            "Processed 10000 texts in 1.5 seconds.\n",
            "Processed 15000 texts in 2.28 seconds.\n",
            "Processed 20000 texts in 3.08 seconds.\n",
            "Finished determining a total of 21766 cluster components.        Total time 3.34 seconds.\n",
            "Determining topics for kmeans model with 15 topics, phrasing False, 1 ngrams, mdf 0.85 and stf True.\n",
            "Determining topics for kmeans model for with 15 topics.\n",
            "Determining topics for kmeans model for with 15 topics.\n",
            "Determining topics for kmeans model for with 15 topics.\n"
          ],
          "name": "stdout"
        }
      ]
    },
    {
      "cell_type": "code",
      "metadata": {
        "id": "ylRRAUz6Yn4u"
      },
      "source": [
        "trainLDA = False\n",
        "trainBTM = False"
      ],
      "execution_count": null,
      "outputs": []
    },
    {
      "cell_type": "code",
      "metadata": {
        "colab": {
          "base_uri": "https://localhost:8080/"
        },
        "id": "FSGszm18dFZ0",
        "outputId": "23422831-bea1-41f3-d0d6-bac00450f4ff"
      },
      "source": [
        "if not (trainLDA or trainBTM):\n",
        "  if not Path(\"lda_coherence\").exists():\n",
        "    !gdown --id 1WaB0v5qlBIhp0RIORO_fNiWNcoSwiC6w\n",
        "\n",
        "  lda_df = pd.read_csv(\"lda_coherence.csv\")\n",
        "\n",
        "if not trainLDA:\n",
        "  if not Path(\"lda_labels\").exists():\n",
        "    !gdown --id 14lk_2gTzPoaO6CfXcvSc93tWpOcJ-FE-\n",
        "\n",
        "  lda_labels = pd.read_csv(\"lda_labels.csv\")\n",
        "\n",
        "if not trainBTM:\n",
        "  if not Path(\"btm_labels\").exists():\n",
        "    !gdown --id 1gnudbXBS0mK_tq2ayxkn94XM31xrIqbT\n",
        "\n",
        "  btm_labels = pd.read_csv(\"btm_labels.csv\")"
      ],
      "execution_count": null,
      "outputs": [
        {
          "output_type": "stream",
          "text": [
            "Downloading...\n",
            "From: https://drive.google.com/uc?id=1WaB0v5qlBIhp0RIORO_fNiWNcoSwiC6w\n",
            "To: /content/lda_coherence.csv\n",
            "100% 441/441 [00:00<00:00, 205kB/s]\n",
            "Downloading...\n",
            "From: https://drive.google.com/uc?id=14lk_2gTzPoaO6CfXcvSc93tWpOcJ-FE-\n",
            "To: /content/lda_labels.csv\n",
            "2.46MB [00:00, 38.8MB/s]\n",
            "Downloading...\n",
            "From: https://drive.google.com/uc?id=1gnudbXBS0mK_tq2ayxkn94XM31xrIqbT\n",
            "To: /content/btm_labels.csv\n",
            "2.46MB [00:00, 39.1MB/s]\n"
          ],
          "name": "stdout"
        }
      ]
    },
    {
      "cell_type": "markdown",
      "metadata": {
        "id": "bmMoHZiBzvvD"
      },
      "source": [
        "### Preprocessing and Util"
      ]
    },
    {
      "cell_type": "code",
      "metadata": {
        "id": "7i63UCRPyXtx"
      },
      "source": [
        "if (trainLDA or trainBTM):\n",
        "\n",
        "  def get_frequent_vocab(corpus, threshold=0):\n",
        "      '''\n",
        "      Gets words whose frequency exceeds that of the threshold\n",
        "      in a given corpus.\n",
        "\n",
        "      :param corpus: list of tokenized words\n",
        "      :param threshold:\n",
        "      :return: list of words with higher frequency than threshold\n",
        "      '''\n",
        "      vect = CountVectorizer().fit(corpus)\n",
        "      bag_of_words = vect.transform(corpus)\n",
        "      sum_words = bag_of_words.sum(axis=0)\n",
        "      freq = {word: sum_words[0, idx] for word, idx in vect.vocabulary_.items()}\n",
        "      return [word for word, count in freq.items() if count >= threshold]\n",
        "\n",
        "  def preprocess(df,\n",
        "                  extra_stopwords,\n",
        "                  tweet_col='text',\n",
        "                  to_lower = True,\n",
        "                  include_bigram = False,\n",
        "                  vocab_threshold = 10\n",
        "                  ):\n",
        "      '''\n",
        "      Preprocesses text in a certain dataframe column.\n",
        "\n",
        "      :param df: dataframe to be processed\n",
        "      :param tweet_col: name of dataframe column containing text\n",
        "      :param to_lower: flag whether to convert to lowercase\n",
        "      :param include_bigram: flag whether to include bigrams\n",
        "      :param vocab_threshold: minimum number of words in each tweet\n",
        "      :param extra_stopwords: extra stopwords to add onto default nltk\n",
        "      :return: original df with extra column, 'tokenized_[tweet_col]'\n",
        "      '''\n",
        "      df_copy = df.copy()\n",
        "\n",
        "      # drop rows with empty values\n",
        "      df_copy.dropna(how='all', inplace=True)\n",
        "      # drop rows with identical text\n",
        "      df_copy.drop_duplicates(subset = 'text', inplace = True)\n",
        "\n",
        "      # lower the tweets\n",
        "      if to_lower:\n",
        "          df_copy['preprocessed_' + tweet_col] = df_copy[tweet_col].str.lower()\n",
        "      else:\n",
        "          df_copy['preprocessed_' + tweet_col] = df_copy[tweet_col].str\n",
        "\n",
        "      # filter out stop words and URLs\n",
        "      en_stop_words = set(stopwords.words('english'))\n",
        "\n",
        "      #extended stop words for twitter and extra stop words from user\n",
        "      extended_stop_words = en_stop_words.union({\n",
        "                                '&amp;', 'rt',\n",
        "                                'th', 'co', 're', 've', 'kim', 'daca'\n",
        "                            }).union(extra_stopwords)\n",
        "\n",
        "      #removes urls\n",
        "      url_re = r'(https?:\\/\\/(?:www\\.|(?!www))[a-zA-Z0-9][a-zA-Z0-9-]+[a-zA-Z0-9]\\.[^\\s]{2,}|www\\.[a-zA-Z0-9][a-zA-Z0-9-]+[a-zA-Z0-9]\\.[^\\s]{2,}|https?:\\/\\/(?:www\\.|(?!www))[a-zA-Z0-9]+\\.[^\\s]{2,}|www\\.[a-zA-Z0-9]+\\.[^\\s]{2,})'\n",
        "      df_copy['preprocessed_' + tweet_col] = df_copy['preprocessed_' + tweet_col].apply(lambda row: ' '.join(\n",
        "          [word for word in row.split() if (word not in extended_stop_words) and (not re.match(url_re, word)) and (word.find('snowmageddon2020') == -1)]))\n",
        "\n",
        "      # tokenize the tweets\n",
        "      tokenizer = RegexpTokenizer(r'[a-zA-Z]\\w+\\'?\\w*')\n",
        "      df_copy['tokenized_' + tweet_col] = df_copy['preprocessed_' + tweet_col].apply(lambda row: tokenizer.tokenize(row))\n",
        "\n",
        "      if include_bigram:\n",
        "          # Build the bigram and trigram models\n",
        "          texts = df_copy['tokenized_' + tweet_col].values.tolist()\n",
        "          bigram = Phrases(texts, min_count=5, threshold=100)  # higher threshold fewer phrases.\n",
        "          bigram_mod = Phraser(bigram)\n",
        "          df_copy['tokenized_' + tweet_col] = pd.Series([bigram_mod[doc] for doc in texts])\n",
        "\n",
        "      # remove terms with frequency less than 10\n",
        "      if vocab_threshold > 0:\n",
        "          texts = [word for tweet in df_copy.tokenized_text for word in tweet]\n",
        "          vocab = get_frequent_vocab(texts, threshold = vocab_threshold)\n",
        "          df_copy['tokenized_' + tweet_col] = df_copy['tokenized_' + tweet_col].apply(lambda row: [word for word in row if word in vocab])\n",
        "\n",
        "      #remove tweets with length less than two\n",
        "      df_copy = df_copy[df_copy['tokenized_' + tweet_col].map(len) >= 2]\n",
        "\n",
        "      return df_copy\n"
      ],
      "execution_count": null,
      "outputs": []
    },
    {
      "cell_type": "markdown",
      "metadata": {
        "id": "ovSxYTYQv-K6"
      },
      "source": [
        "### LDA"
      ]
    },
    {
      "cell_type": "markdown",
      "metadata": {
        "id": "_CUWMi07vYtg"
      },
      "source": [
        "#### Initialize Model"
      ]
    },
    {
      "cell_type": "code",
      "metadata": {
        "id": "YxNGk57CwAqR"
      },
      "source": [
        "if trainLDA:\n",
        "  def build_lda_model(data, num_topics, include_vis = False):\n",
        "      '''\n",
        "      Trains LDA model using Gensim based on parameters\n",
        "      and saves a pyLDAvis visualization of the topics.\n",
        "\n",
        "      :param data: list of tweets to be processed\n",
        "      :param num_topics: number of topics for the model\n",
        "      :param include_vis: flag to include pyLDAvis\n",
        "      :return: LDA model as given by Gensim\n",
        "      '''\n",
        "      # Create Dictionary\n",
        "      id2word = corpora.Dictionary(data)\n",
        "\n",
        "      # Create Corpus: Term Document Frequency\n",
        "      corpus = [id2word.doc2bow(text) for text in data]\n",
        "\n",
        "      # Build LDA model\n",
        "      lda_model = gensim.models.ldamodel.LdaModel(corpus=corpus,\n",
        "                                                  id2word=id2word,\n",
        "                                                  num_topics=num_topics,\n",
        "                                                  random_state=100,\n",
        "                                                  update_every=1,\n",
        "                                                  chunksize=10,\n",
        "                                                  passes=10,\n",
        "                                                  alpha='symmetric',\n",
        "                                                  iterations=100,\n",
        "                                                  per_word_topics=True)\n",
        "\n",
        "      #pyLDAvis\n",
        "      if include_vis:\n",
        "          p = pyLDAvis.gensim.prepare(lda_model, corpus, id2word)\n",
        "          pyLDAvis.save_html(p, 'lda_{}.html'.format(num_topics))\n",
        "\n",
        "      return lda_model"
      ],
      "execution_count": null,
      "outputs": []
    },
    {
      "cell_type": "markdown",
      "metadata": {
        "id": "D6i9vfOWvjY5"
      },
      "source": [
        "#### Get Model Results"
      ]
    },
    {
      "cell_type": "code",
      "metadata": {
        "id": "sIesbd0dvrUA"
      },
      "source": [
        "if trainLDA:\n",
        "\n",
        "  def top_vocab_lda (lda_model, num):\n",
        "      '''\n",
        "      Gets top vocabulary words for a given LDA model and saves to csv.\n",
        "\n",
        "      :param lda_model: LDA model to be evaluated\n",
        "      :param num: number of vocabulary words assigned to each topic\n",
        "      :return: csv of top words per topic\n",
        "      '''\n",
        "      top_words_per_topic = []\n",
        "      for t in range(lda_model.num_topics):\n",
        "          top_words_per_topic.extend([(t,) + x for x in lda_model.show_topic(t, topn=num)])\n",
        "      return pd.DataFrame(top_words_per_topic, columns=['Topic', 'Word', 'P'])"
      ],
      "execution_count": null,
      "outputs": []
    },
    {
      "cell_type": "markdown",
      "metadata": {
        "id": "wytnwTI0wBGJ"
      },
      "source": [
        "### BTM"
      ]
    },
    {
      "cell_type": "markdown",
      "metadata": {
        "id": "C8i6-hW8v_oG"
      },
      "source": [
        "#### Initialize Model"
      ]
    },
    {
      "cell_type": "code",
      "metadata": {
        "id": "Xz4SHEhKv8uK"
      },
      "source": [
        "if trainBTM:\n",
        "\n",
        "  def identity_tokenizer (tokens):\n",
        "      return tokens\n",
        "\n",
        "  def build_btm_model(data, num_topics, include_vis= False):\n",
        "      '''\n",
        "      Builds biterm model based on parameters,\n",
        "      saves output model in a npy model\n",
        "      and outputs pyLDAvis model\n",
        "\n",
        "      :param data: list of preprocessed text\n",
        "      :param num_topics: number of topics for biterm model\n",
        "      :param include_vis: flag to include\n",
        "      :return: biterm model and res summary of model\n",
        "      '''\n",
        "\n",
        "      texts = [' '.join(tweet) for tweet in data]\n",
        "\n",
        "      #vectorize tokens\n",
        "      vec = CountVectorizer(stop_words='english', lowercase=False)\n",
        "      X = vec.fit_transform(texts).toarray()\n",
        "\n",
        "      #build vocabulary\n",
        "      vocab = np.array(vec.get_feature_names())\n",
        "      biterms = vec_to_biterms(X)\n",
        "\n",
        "      btm = oBTM(num_topics=num_topics, V=vocab)\n",
        "      biterm_model = btm.fit_transform(biterms, iterations=100)\n",
        "\n",
        "      for i in range(len(texts[:50])):\n",
        "          print(\"{} (topic: {})\".format(texts[i], biterm_model[i].argmax()))\n",
        "\n",
        "      res = topic_summuary(btm.phi_wz.T, X, vocab, 10)\n",
        "      #np.save('btm_summary_{}.npy'.format(num_topics), res)\n",
        "\n",
        "      #pyLDAvis\n",
        "      if include_vis:\n",
        "          vis = pyLDAvis.prepare(btm.phi_wz.T, biterm_model, np.count_nonzero(X, axis=1), vocab, np.sum(X, axis=0))\n",
        "          pyLDAvis.save_html(p, 'biterm_{}.html'.format(num_topics))\n",
        "\n",
        "      return btm, biterm_model, res"
      ],
      "execution_count": null,
      "outputs": []
    },
    {
      "cell_type": "markdown",
      "metadata": {
        "id": "31Ul8Hm2wBcx"
      },
      "source": [
        "#### Get Model Results"
      ]
    },
    {
      "cell_type": "code",
      "metadata": {
        "id": "shyp41qVwdN0"
      },
      "source": [
        "if trainBTM:\n",
        "\n",
        "  def top_vocab_btm (res):\n",
        "      '''\n",
        "      Saves top 10 words per topic given model .npy file\n",
        "\n",
        "      :param res: array of model information\n",
        "      :return: saves csv of top words per topic\n",
        "      '''\n",
        "      df = pd.DataFrame()\n",
        "\n",
        "      #save top words per topic\n",
        "      for i in range(len(res.item()['top_words'])):\n",
        "          df['topic_{}'.format(i)] = pd.Series(res.item()['top_words'][i])\n",
        "      #df.to_csv('btm_top_words_{}.csv'.format(len(res.item()['top_words'])))\n",
        "      return df.T.values.tolist()"
      ],
      "execution_count": null,
      "outputs": []
    },
    {
      "cell_type": "markdown",
      "metadata": {
        "id": "-utAmWk60aRY"
      },
      "source": [
        "### Retrieving all baselines"
      ]
    },
    {
      "cell_type": "code",
      "metadata": {
        "id": "i5BcoLhI0gKT"
      },
      "source": [
        "if (trainLDA or trainBTM):\n",
        "  # constants and preprocessing\n",
        "  HASHTAGS = {r'#nlwhiteout', r'#nlweather', r'#newfoundland', r'#nlblizzard2020', r'#nlstm2020', r'#snowmaggedon2020', r'#stmageddon2020', r'#stormageddon2020', r'#newfoundland',\n",
        "                              r'#snowpocalypse2020', r'#snowmageddon', r'#nlstm', r'#nlwx', r'#nlblizzard', r'#nlwx', 'snowmaggedon2020', 'newfoundland', r'#nlstorm2020', 'snow', 'st'}\n",
        "\n",
        "  num_topics = [5, 9, 10, 15, 20]\n",
        "\n",
        "  winter_tweets_cleaned = preprocess(df=nlwx_df, extra_stopwords = HASHTAGS)\n",
        "  winter_tweets_cleaned.reset_index(inplace=True, drop=True)\n",
        "  ready_data = winter_tweets_cleaned['tokenized_text'].values.tolist()"
      ],
      "execution_count": null,
      "outputs": []
    },
    {
      "cell_type": "markdown",
      "metadata": {
        "id": "PkwoTug4fBQo"
      },
      "source": [
        "#### Example Training Script"
      ]
    },
    {
      "cell_type": "code",
      "metadata": {
        "id": "SzMHSsN1gAfC"
      },
      "source": [
        "num = 10\n",
        "\n",
        "if trainLDA:\n",
        "  lda_model = build_lda_model(ready_data, num_topics = num, include_vis = False)\n",
        "  btm, biterm_model, res = build_btm_model(ready_data, num_topics=num)\n",
        "\n",
        "  #retrieve lda top words for each topic\n",
        "  lda_top_words = pd.DataFrame()\n",
        "  for i in range(lda_model.num_topics):\n",
        "    lda_top_words['topic_{}'.format(i)] = pd.Series([i[0] for i in lda_model.show_topic(i, topn=10)])\n",
        "\n",
        "if trainBTM:\n",
        "  #retrieve top btm words per topic\n",
        "  btm_top_words = pd.DataFrame()\n",
        "  for i in range(len(res.item()['top_words'])):\n",
        "    btm_top_words['topic_{}'.format(i)] = pd.Series(res.item()['top_words'][i])"
      ],
      "execution_count": null,
      "outputs": []
    },
    {
      "cell_type": "code",
      "metadata": {
        "id": "i6keGf5FCfkY"
      },
      "source": [
        "if trainLDA:\n",
        "  #viewing top words\n",
        "  lda_top_words"
      ],
      "execution_count": null,
      "outputs": []
    },
    {
      "cell_type": "markdown",
      "metadata": {
        "id": "CJUzPLzDe5GW"
      },
      "source": [
        "#### Retrieving Baseline Coherence"
      ]
    },
    {
      "cell_type": "code",
      "metadata": {
        "id": "N5Wf3bZ6e1xL"
      },
      "source": [
        "if trainLDA or trainBTM:\n",
        "  #df to store coherence scores\n",
        "  baseline_coh = pd.DataFrame(columns=['model', 'u_mass', 'c_v', 'c_uci', 'c_npmi'])\n",
        "\n",
        "  # Create Corpus: Term Document Frequency\n",
        "  id2word = corpora.Dictionary(ready_data)\n",
        "  corpus = [id2word.doc2bow(text) for text in ready_data]\n",
        "\n",
        "  #counter for formatting df\n",
        "  i=0"
      ],
      "execution_count": null,
      "outputs": []
    },
    {
      "cell_type": "code",
      "metadata": {
        "id": "zMviwJlj0qfj"
      },
      "source": [
        "if trainLDA or trainBTM:\n",
        "  #trains both lda and biterm models\n",
        "  for val in num_topics:\n",
        "          print(\"Building LDA model with {} topics...\".format(val))\n",
        "\n",
        "          if trainLDA:\n",
        "            #coherence model for LDA\n",
        "            lda_model = build_lda_model(ready_data, num_topics = val)\n",
        "            u_mass = CoherenceModel(model=lda_model, corpus=corpus, dictionary=id2word, coherence='u_mass').get_coherence()\n",
        "            c_v = CoherenceModel(model=lda_model, texts=ready_data, dictionary=id2word, coherence='c_v').get_coherence()\n",
        "            c_uci = CoherenceModel(model=lda_model, texts=ready_data, dictionary=id2word, coherence='c_uci').get_coherence()\n",
        "            c_npmi = CoherenceModel(model=lda_model, texts=ready_data, dictionary=id2word, coherence='c_npmi').get_coherence()\n",
        "            lda_coh = [u_mass, c_v, c_uci, c_npmi]\n",
        "            baseline_coh.loc[i] = ['lda_{}'.format(val)] + lda_coh\n",
        "            i += 1\n",
        "          \n",
        "          if trainBTM:\n",
        "            #coherence model for BTM\n",
        "            btm, biterm_model, res = build_btm_model(ready_data, num_topics=val)\n",
        "            ##save top words\n",
        "            top_words_btm = top_vocab_btm(res)\n",
        "            u_mass_b = CoherenceModel(topics=top_words_btm, corpus=corpus, dictionary=id2word, coherence='u_mass').get_coherence()\n",
        "            c_v_b = CoherenceModel(topics=top_words_btm, texts=ready_data, dictionary=id2word, coherence='c_v').get_coherence()\n",
        "            c_uci_b = CoherenceModel(topics=top_words_btm, texts=ready_data, dictionary=id2word, coherence='c_uci').get_coherence()\n",
        "            c_npmi_b = CoherenceModel(topics=top_words_btm, texts=ready_data, dictionary=id2word, coherence='c_npmi').get_coherence()\n",
        "            btm_coh = [u_mass_b, c_v_b, c_uci_b, c_npmi_b]\n",
        "            baseline_coh.loc[i] = ['btm_{}'.format(val)] + btm_coh\n",
        "            i += 1\n"
      ],
      "execution_count": null,
      "outputs": []
    },
    {
      "cell_type": "code",
      "metadata": {
        "id": "SPruU6aE2dln"
      },
      "source": [
        "if trainLDA or trainBTM:\n",
        "  baseline_coh"
      ],
      "execution_count": null,
      "outputs": []
    },
    {
      "cell_type": "markdown",
      "metadata": {
        "id": "03mlne7pwH1k"
      },
      "source": [
        "## Evaluation"
      ]
    },
    {
      "cell_type": "markdown",
      "metadata": {
        "id": "pNMst9xmj-Wj"
      },
      "source": [
        "### Coherence"
      ]
    },
    {
      "cell_type": "code",
      "metadata": {
        "id": "CjE3zFvzoGpM"
      },
      "source": [
        "def return_coherence(features, topics, coherence_type):\n",
        "    dct = Dictionary(features)\n",
        "    topics = topics.T.values.tolist()\n",
        "    if coherence_type == 'u_mass':\n",
        "        try:\n",
        "            bow_corpus = [dct.doc2bow(f) for f in features]\n",
        "            cm = CoherenceModel(topics=topics, corpus=bow_corpus, dictionary=dct, coherence=coherence_type)\n",
        "            coherence = cm.get_coherence()  # get coherence value\n",
        "        except:\n",
        "            coherence = 0\n",
        "\n",
        "    elif coherence_type in ['c_v', 'c_uci', 'c_npmi']:\n",
        "        try:\n",
        "            cm = CoherenceModel(topics=topics, texts=features, dictionary=dct, coherence=coherence_type)\n",
        "            coherence = cm.get_coherence()  # get coherence value\n",
        "        except:\n",
        "            coherence = 0\n",
        "\n",
        "    else:\n",
        "        print(f\"'{coherence_type}' is not a coherence model.\" \n",
        "              \"Use one of the following arguments:'u_mass', 'c_v', 'c_uci', 'c_npmi'.\")\n",
        "    \n",
        "    return coherence\n",
        "\n",
        "def output_coherence(n_topics, h, n, s, m, p, comp, \n",
        "                     features, topics, embed_name, coh_type, topic_model = \"kmeans\"):\n",
        "    topic_paths = []\n",
        "    df = {'embeddings': [], 'model': [], 'components':[], 'topics': [], \n",
        "          'ngrams_per_topic':[],'ct': [], 'coherence': [], 'hashtags': [],\n",
        "          'phrasing':[],'max_df':[],'stf':[],'ngrams':[]}\n",
        "    coherence = return_coherence(features, topics, coherence_type = coh_type)\n",
        "    print(f\"Getting {coh_type} coherence for {embed_name} with {n_topics} topics and {comp} components.\")\n",
        "    df['embeddings'].append(embed_name)\n",
        "    df['model'].append(topic_model)\n",
        "    df['components'].append(comp)\n",
        "    df['topics'].append(n_topics)\n",
        "    df['ngrams_per_topic'].append(10)\n",
        "    df['ct'].append(coh_type)\n",
        "    df['coherence'].append(coherence)\n",
        "    df['hashtags'].append(h)\n",
        "    df['phrasing'].append(p)\n",
        "    df['max_df'].append(m)\n",
        "    df['stf'].append(s)\n",
        "    df['ngrams'].append(n)\n",
        "    df = pd.DataFrame.from_dict(df)\n",
        "    return df"
      ],
      "execution_count": null,
      "outputs": []
    },
    {
      "cell_type": "code",
      "metadata": {
        "id": "st1ArWuhkH1_"
      },
      "source": [
        "def get_coherence(ts, n_topics, hashtag_opts, ngrams, stf, max_df, phrasing, components, ct, embed_name):\n",
        "  c_dfs = []\n",
        "  for t in n_topics:\n",
        "    for h in hashtag_opts:\n",
        "      for n in ngrams:\n",
        "        for s in stf:\n",
        "          for m in max_df:\n",
        "            for p in phrasing:\n",
        "              for comp in components:\n",
        "                for c in ct:\n",
        "                  df = output_coherence(t, h, n, s, m, p, comp,\n",
        "                                        ts.hyperparams[embed_name][t]['hashtags'][h]['ngram'][n]['stf'][s]['max_df'][m]['phrasing'][p]['features'],\n",
        "                                        ts.hyperparams[embed_name][t]['hashtags'][h]['ngram'][n]['stf'][s]['max_df'][m]['phrasing'][p][f'topics_{comp}'],\n",
        "                                        embed_name = embed_name,\n",
        "                                        coh_type = c)\n",
        "                  c_dfs.append(df)\n",
        "  coherence = pd.concat(c_dfs).groupby('ct', group_keys = False).apply(\n",
        "        pd.DataFrame.sort_values, 'coherence', ascending=False).reset_index(drop = 'True')\n",
        "  return coherence"
      ],
      "execution_count": null,
      "outputs": []
    },
    {
      "cell_type": "code",
      "metadata": {
        "colab": {
          "base_uri": "https://localhost:8080/"
        },
        "id": "eCik0Lj_nWzm",
        "outputId": "00b3af6c-c905-4383-8bd0-7daa3b30dda9"
      },
      "source": [
        "ct = ['c_v','c_npmi']\n",
        "components = ['attn', 'tfidf', 'tfidf_attn']\n",
        "\n",
        "coherence_fte = get_coherence(ts, \n",
        "                              n_topics, \n",
        "                              hashtag_opts, \n",
        "                              ngrams, \n",
        "                              stf, \n",
        "                              max_df, \n",
        "                              phrasing, \n",
        "                              components, \n",
        "                              ct)"
      ],
      "execution_count": null,
      "outputs": [
        {
          "output_type": "stream",
          "text": [
            "Getting c_v coherence for fte with 5 topics and attn components.\n",
            "Getting c_npmi coherence for fte with 5 topics and attn components.\n",
            "Getting c_v coherence for fte with 5 topics and tfidf components.\n",
            "Getting c_npmi coherence for fte with 5 topics and tfidf components.\n",
            "Getting c_v coherence for fte with 5 topics and tfidf_attn components.\n",
            "Getting c_npmi coherence for fte with 5 topics and tfidf_attn components.\n",
            "Getting c_v coherence for fte with 5 topics and attn components.\n",
            "Getting c_npmi coherence for fte with 5 topics and attn components.\n",
            "Getting c_v coherence for fte with 5 topics and tfidf components.\n",
            "Getting c_npmi coherence for fte with 5 topics and tfidf components.\n",
            "Getting c_v coherence for fte with 5 topics and tfidf_attn components.\n",
            "Getting c_npmi coherence for fte with 5 topics and tfidf_attn components.\n",
            "Getting c_v coherence for fte with 5 topics and attn components.\n",
            "Getting c_npmi coherence for fte with 5 topics and attn components.\n",
            "Getting c_v coherence for fte with 5 topics and tfidf components.\n",
            "Getting c_npmi coherence for fte with 5 topics and tfidf components.\n",
            "Getting c_v coherence for fte with 5 topics and tfidf_attn components.\n",
            "Getting c_npmi coherence for fte with 5 topics and tfidf_attn components.\n",
            "Getting c_v coherence for fte with 9 topics and attn components.\n",
            "Getting c_npmi coherence for fte with 9 topics and attn components.\n",
            "Getting c_v coherence for fte with 9 topics and tfidf components.\n",
            "Getting c_npmi coherence for fte with 9 topics and tfidf components.\n",
            "Getting c_v coherence for fte with 9 topics and tfidf_attn components.\n",
            "Getting c_npmi coherence for fte with 9 topics and tfidf_attn components.\n",
            "Getting c_v coherence for fte with 9 topics and attn components.\n",
            "Getting c_npmi coherence for fte with 9 topics and attn components.\n",
            "Getting c_v coherence for fte with 9 topics and tfidf components.\n",
            "Getting c_npmi coherence for fte with 9 topics and tfidf components.\n",
            "Getting c_v coherence for fte with 9 topics and tfidf_attn components.\n",
            "Getting c_npmi coherence for fte with 9 topics and tfidf_attn components.\n",
            "Getting c_v coherence for fte with 9 topics and attn components.\n",
            "Getting c_npmi coherence for fte with 9 topics and attn components.\n",
            "Getting c_v coherence for fte with 9 topics and tfidf components.\n",
            "Getting c_npmi coherence for fte with 9 topics and tfidf components.\n",
            "Getting c_v coherence for fte with 9 topics and tfidf_attn components.\n",
            "Getting c_npmi coherence for fte with 9 topics and tfidf_attn components.\n",
            "Getting c_v coherence for fte with 10 topics and attn components.\n",
            "Getting c_npmi coherence for fte with 10 topics and attn components.\n",
            "Getting c_v coherence for fte with 10 topics and tfidf components.\n",
            "Getting c_npmi coherence for fte with 10 topics and tfidf components.\n",
            "Getting c_v coherence for fte with 10 topics and tfidf_attn components.\n",
            "Getting c_npmi coherence for fte with 10 topics and tfidf_attn components.\n",
            "Getting c_v coherence for fte with 10 topics and attn components.\n",
            "Getting c_npmi coherence for fte with 10 topics and attn components.\n",
            "Getting c_v coherence for fte with 10 topics and tfidf components.\n",
            "Getting c_npmi coherence for fte with 10 topics and tfidf components.\n",
            "Getting c_v coherence for fte with 10 topics and tfidf_attn components.\n",
            "Getting c_npmi coherence for fte with 10 topics and tfidf_attn components.\n",
            "Getting c_v coherence for fte with 10 topics and attn components.\n",
            "Getting c_npmi coherence for fte with 10 topics and attn components.\n",
            "Getting c_v coherence for fte with 10 topics and tfidf components.\n",
            "Getting c_npmi coherence for fte with 10 topics and tfidf components.\n",
            "Getting c_v coherence for fte with 10 topics and tfidf_attn components.\n",
            "Getting c_npmi coherence for fte with 10 topics and tfidf_attn components.\n",
            "Getting c_v coherence for fte with 15 topics and attn components.\n",
            "Getting c_npmi coherence for fte with 15 topics and attn components.\n",
            "Getting c_v coherence for fte with 15 topics and tfidf components.\n",
            "Getting c_npmi coherence for fte with 15 topics and tfidf components.\n",
            "Getting c_v coherence for fte with 15 topics and tfidf_attn components.\n",
            "Getting c_npmi coherence for fte with 15 topics and tfidf_attn components.\n",
            "Getting c_v coherence for fte with 15 topics and attn components.\n",
            "Getting c_npmi coherence for fte with 15 topics and attn components.\n",
            "Getting c_v coherence for fte with 15 topics and tfidf components.\n",
            "Getting c_npmi coherence for fte with 15 topics and tfidf components.\n",
            "Getting c_v coherence for fte with 15 topics and tfidf_attn components.\n",
            "Getting c_npmi coherence for fte with 15 topics and tfidf_attn components.\n",
            "Getting c_v coherence for fte with 15 topics and attn components.\n",
            "Getting c_npmi coherence for fte with 15 topics and attn components.\n",
            "Getting c_v coherence for fte with 15 topics and tfidf components.\n",
            "Getting c_npmi coherence for fte with 15 topics and tfidf components.\n",
            "Getting c_v coherence for fte with 15 topics and tfidf_attn components.\n",
            "Getting c_npmi coherence for fte with 15 topics and tfidf_attn components.\n"
          ],
          "name": "stdout"
        }
      ]
    },
    {
      "cell_type": "code",
      "metadata": {
        "colab": {
          "base_uri": "https://localhost:8080/"
        },
        "id": "objzVK-3ndcm",
        "outputId": "5ba5105c-6e76-4712-e6d1-9e1d9504e387"
      },
      "source": [
        "coherence_bert = get_coherence(ts_bert, \n",
        "                               n_topics, \n",
        "                               hashtag_opts, \n",
        "                               ngrams, \n",
        "                               stf, \n",
        "                               max_df, \n",
        "                               phrasing, \n",
        "                               components, \n",
        "                               ct, \n",
        "                               'bert')"
      ],
      "execution_count": null,
      "outputs": [
        {
          "output_type": "stream",
          "text": [
            "Getting c_v coherence for bert with 5 topics and attn components.\n",
            "Getting c_npmi coherence for bert with 5 topics and attn components.\n",
            "Getting c_v coherence for bert with 5 topics and tfidf components.\n",
            "Getting c_npmi coherence for bert with 5 topics and tfidf components.\n",
            "Getting c_v coherence for bert with 5 topics and tfidf_attn components.\n",
            "Getting c_npmi coherence for bert with 5 topics and tfidf_attn components.\n",
            "Getting c_v coherence for bert with 5 topics and attn components.\n",
            "Getting c_npmi coherence for bert with 5 topics and attn components.\n",
            "Getting c_v coherence for bert with 5 topics and tfidf components.\n",
            "Getting c_npmi coherence for bert with 5 topics and tfidf components.\n",
            "Getting c_v coherence for bert with 5 topics and tfidf_attn components.\n",
            "Getting c_npmi coherence for bert with 5 topics and tfidf_attn components.\n",
            "Getting c_v coherence for bert with 5 topics and attn components.\n",
            "Getting c_npmi coherence for bert with 5 topics and attn components.\n",
            "Getting c_v coherence for bert with 5 topics and tfidf components.\n",
            "Getting c_npmi coherence for bert with 5 topics and tfidf components.\n",
            "Getting c_v coherence for bert with 5 topics and tfidf_attn components.\n",
            "Getting c_npmi coherence for bert with 5 topics and tfidf_attn components.\n",
            "Getting c_v coherence for bert with 9 topics and attn components.\n",
            "Getting c_npmi coherence for bert with 9 topics and attn components.\n",
            "Getting c_v coherence for bert with 9 topics and tfidf components.\n",
            "Getting c_npmi coherence for bert with 9 topics and tfidf components.\n",
            "Getting c_v coherence for bert with 9 topics and tfidf_attn components.\n",
            "Getting c_npmi coherence for bert with 9 topics and tfidf_attn components.\n",
            "Getting c_v coherence for bert with 9 topics and attn components.\n",
            "Getting c_npmi coherence for bert with 9 topics and attn components.\n",
            "Getting c_v coherence for bert with 9 topics and tfidf components.\n",
            "Getting c_npmi coherence for bert with 9 topics and tfidf components.\n",
            "Getting c_v coherence for bert with 9 topics and tfidf_attn components.\n",
            "Getting c_npmi coherence for bert with 9 topics and tfidf_attn components.\n",
            "Getting c_v coherence for bert with 9 topics and attn components.\n",
            "Getting c_npmi coherence for bert with 9 topics and attn components.\n",
            "Getting c_v coherence for bert with 9 topics and tfidf components.\n",
            "Getting c_npmi coherence for bert with 9 topics and tfidf components.\n",
            "Getting c_v coherence for bert with 9 topics and tfidf_attn components.\n",
            "Getting c_npmi coherence for bert with 9 topics and tfidf_attn components.\n",
            "Getting c_v coherence for bert with 10 topics and attn components.\n",
            "Getting c_npmi coherence for bert with 10 topics and attn components.\n",
            "Getting c_v coherence for bert with 10 topics and tfidf components.\n",
            "Getting c_npmi coherence for bert with 10 topics and tfidf components.\n",
            "Getting c_v coherence for bert with 10 topics and tfidf_attn components.\n",
            "Getting c_npmi coherence for bert with 10 topics and tfidf_attn components.\n",
            "Getting c_v coherence for bert with 10 topics and attn components.\n",
            "Getting c_npmi coherence for bert with 10 topics and attn components.\n",
            "Getting c_v coherence for bert with 10 topics and tfidf components.\n",
            "Getting c_npmi coherence for bert with 10 topics and tfidf components.\n",
            "Getting c_v coherence for bert with 10 topics and tfidf_attn components.\n",
            "Getting c_npmi coherence for bert with 10 topics and tfidf_attn components.\n",
            "Getting c_v coherence for bert with 10 topics and attn components.\n",
            "Getting c_npmi coherence for bert with 10 topics and attn components.\n",
            "Getting c_v coherence for bert with 10 topics and tfidf components.\n",
            "Getting c_npmi coherence for bert with 10 topics and tfidf components.\n",
            "Getting c_v coherence for bert with 10 topics and tfidf_attn components.\n",
            "Getting c_npmi coherence for bert with 10 topics and tfidf_attn components.\n",
            "Getting c_v coherence for bert with 15 topics and attn components.\n",
            "Getting c_npmi coherence for bert with 15 topics and attn components.\n",
            "Getting c_v coherence for bert with 15 topics and tfidf components.\n",
            "Getting c_npmi coherence for bert with 15 topics and tfidf components.\n",
            "Getting c_v coherence for bert with 15 topics and tfidf_attn components.\n",
            "Getting c_npmi coherence for bert with 15 topics and tfidf_attn components.\n",
            "Getting c_v coherence for bert with 15 topics and attn components.\n",
            "Getting c_npmi coherence for bert with 15 topics and attn components.\n",
            "Getting c_v coherence for bert with 15 topics and tfidf components.\n",
            "Getting c_npmi coherence for bert with 15 topics and tfidf components.\n",
            "Getting c_v coherence for bert with 15 topics and tfidf_attn components.\n",
            "Getting c_npmi coherence for bert with 15 topics and tfidf_attn components.\n",
            "Getting c_v coherence for bert with 15 topics and attn components.\n",
            "Getting c_npmi coherence for bert with 15 topics and attn components.\n",
            "Getting c_v coherence for bert with 15 topics and tfidf components.\n",
            "Getting c_npmi coherence for bert with 15 topics and tfidf components.\n",
            "Getting c_v coherence for bert with 15 topics and tfidf_attn components.\n",
            "Getting c_npmi coherence for bert with 15 topics and tfidf_attn components.\n"
          ],
          "name": "stdout"
        }
      ]
    },
    {
      "cell_type": "code",
      "metadata": {
        "id": "yqd7w9dt0zeh"
      },
      "source": [
        "def best_model(df, ct = 'c_v'):\n",
        "    if ct == 'c_v':\n",
        "        df = df[df['ct'] == 'c_v']\n",
        "        max_df = df.loc[df.groupby(['topics','embeddings','components'])['coherence'].idxmax()]\n",
        "    if ct == 'u_mass':\n",
        "        df = df[df['ct'] == 'u_mass']\n",
        "        max_df = df.loc[df.groupby(['topics','embeddings','components'])['coherence'].idxmin()]\n",
        "    if ct == 'c_npmi' or df.ct.all() == 'c_uci':\n",
        "        df = df[df['ct'] == 'c_npmi']\n",
        "        max_df = df.loc[df.groupby(['topics','embeddings','components'])['coherence'].idxmin()]\n",
        "    return max_df"
      ],
      "execution_count": null,
      "outputs": []
    },
    {
      "cell_type": "code",
      "metadata": {
        "id": "6R_rzPBXoCOO"
      },
      "source": [
        "best_fte_cv = best_model(coherence_fte, 'c_v')\n",
        "best_fte_npmi = best_model(coherence_fte, 'c_npmi')\n",
        "best_fte = pd.concat([best_fte_cv, best_fte_npmi])\n",
        "\n",
        "best_bert_cv = best_model(coherence_bert, 'c_v')\n",
        "best_bert_npmi = best_model(coherence_bert, 'c_npmi')\n",
        "best_bert = pd.concat([best_bert_cv, best_bert_npmi])"
      ],
      "execution_count": null,
      "outputs": []
    },
    {
      "cell_type": "markdown",
      "metadata": {
        "id": "WF7GaWyBwrNR"
      },
      "source": [
        "### Keywords"
      ]
    },
    {
      "cell_type": "code",
      "metadata": {
        "id": "y-ozXVzTDBmn"
      },
      "source": [
        "best_cv_grouped = best_fte_cv[best_fte_cv.topics == 9].sort_values('coherence',ascending = False).groupby('components').head(1)\n",
        "best_a = best_cv_grouped[best_cv_grouped.components == 'attn'].to_dict(orient=\"records\")[0]\n",
        "best_t = best_cv_grouped[best_cv_grouped.components == 'tfidf'].to_dict(orient=\"records\")[0]\n",
        "best_ta = best_cv_grouped[best_cv_grouped.components == 'tfidf_attn'].to_dict(orient=\"records\")[0]"
      ],
      "execution_count": null,
      "outputs": []
    },
    {
      "cell_type": "code",
      "metadata": {
        "colab": {
          "base_uri": "https://localhost:8080/"
        },
        "id": "vX7IVJ5THCLw",
        "outputId": "e9301aed-7f18-4b94-f1d5-414a9d8952a2"
      },
      "source": [
        "print(ts.hyperparams['fte'][best_a['topics']]['hashtags'][best_a['hashtags']]['ngram'][best_a['ngrams']]['stf'][best_a['stf']]['max_df'][best_a['max_df']]['phrasing'][best_a['phrasing']]['topics_attn'])"
      ],
      "execution_count": null,
      "outputs": [
        {
          "output_type": "stream",
          "text": [
            "     topic 0       topic 1  ...       topic 7       topic 8\n",
            "0     closed          snow  ...          snow  newfoundland\n",
            "1       snow  newfoundland  ...         storm  stormageddon\n",
            "2      power         storm  ...      blizzard          http\n",
            "3  emergency          http  ...  newfoundland       nlstorm\n",
            "4     outage  stormageddon  ...          wind  snowmaggedon\n",
            "5      storm  snowmaggedon  ...      snowfall          snow\n",
            "6       road        people  ...     emergency          nlwx\n",
            "7     buried        shovel  ...       weather      blizzard\n",
            "8     school          love  ...     hurricane    nlblizzard\n",
            "9      close           day  ...          http          love\n",
            "\n",
            "[10 rows x 9 columns]\n"
          ],
          "name": "stdout"
        }
      ]
    },
    {
      "cell_type": "code",
      "metadata": {
        "colab": {
          "base_uri": "https://localhost:8080/"
        },
        "id": "vNS074lKChW0",
        "outputId": "62b7f7d9-e5a2-4bc2-9833-a67757901cc5"
      },
      "source": [
        "print(ts.hyperparams['fte'][best_t['topics']]['hashtags'][best_t['hashtags']]['ngram'][best_t['ngrams']]['stf'][best_t['stf']]['max_df'][best_t['max_df']]['phrasing'][best_t['phrasing']]['topics_attn'])\n"
      ],
      "execution_count": null,
      "outputs": [
        {
          "output_type": "stream",
          "text": [
            "     topic 0       topic 1  ...       topic 7       topic 8\n",
            "0     closed          snow  ...          snow  newfoundland\n",
            "1       snow  newfoundland  ...         storm  stormageddon\n",
            "2      power         storm  ...      blizzard          http\n",
            "3  emergency          http  ...  newfoundland       nlstorm\n",
            "4     outage  stormageddon  ...          wind  snowmaggedon\n",
            "5      storm  snowmaggedon  ...      snowfall          snow\n",
            "6       road        people  ...     emergency          nlwx\n",
            "7     buried        shovel  ...       weather      blizzard\n",
            "8     school          love  ...     hurricane    nlblizzard\n",
            "9      close           day  ...          http          love\n",
            "\n",
            "[10 rows x 9 columns]\n"
          ],
          "name": "stdout"
        }
      ]
    },
    {
      "cell_type": "code",
      "metadata": {
        "colab": {
          "base_uri": "https://localhost:8080/"
        },
        "id": "1-V3jhV6KDyN",
        "outputId": "1748d88a-154c-4bca-f6df-70a8e396d502"
      },
      "source": [
        "print(ts.hyperparams['fte'][best_ta['topics']]['hashtags'][best_ta['hashtags']]['ngram'][best_ta['ngrams']]['stf'][best_ta['stf']]['max_df'][best_ta['max_df']]['phrasing'][best_ta['phrasing']]['topics_attn'])\n"
      ],
      "execution_count": null,
      "outputs": [
        {
          "output_type": "stream",
          "text": [
            "     topic 0       topic 1  ...       topic 7       topic 8\n",
            "0     closed          snow  ...          snow  newfoundland\n",
            "1       snow  newfoundland  ...         storm  stormageddon\n",
            "2      power         storm  ...      blizzard          http\n",
            "3  emergency          http  ...  newfoundland       nlstorm\n",
            "4     outage  stormageddon  ...          wind  snowmaggedon\n",
            "5      storm  snowmaggedon  ...      snowfall          snow\n",
            "6       road        people  ...     emergency          nlwx\n",
            "7     buried        shovel  ...       weather      blizzard\n",
            "8     school          love  ...     hurricane    nlblizzard\n",
            "9      close           day  ...          http          love\n",
            "\n",
            "[10 rows x 9 columns]\n"
          ],
          "name": "stdout"
        }
      ]
    },
    {
      "cell_type": "markdown",
      "metadata": {
        "id": "E1ZFj8pTwdcX"
      },
      "source": [
        "### Automatic evaluation"
      ]
    },
    {
      "cell_type": "code",
      "metadata": {
        "id": "z9PgDWEn1lWa"
      },
      "source": [
        "def concat_dfs(fte_df, lda_df, save = True):\n",
        "    output = fte_df[fte_df.embeddings.isin(['fte','bert'])]\n",
        "    output = output.replace(\n",
        "        {'tfidf_attn':'tfidf-attn',\n",
        "         'fte': 'FTE',\n",
        "         'bert': 'BERT'})\n",
        "    output = output.rename({'embeddings': 'Model', \n",
        "                            'components': 'Components'}, axis='columns')\n",
        "    output_cv = output[output['ct'].str.contains('c_v')]\n",
        "    output_npmi = output[output['ct'].str.contains('c_npmi')]\n",
        "    output_cv = output_cv.rename({'coherence': 'Coherence_CV'}, axis='columns')\n",
        "    output_cv['Coherence_NPMI'] = output_npmi['coherence'].tolist()\n",
        "    output_plot = output_cv\n",
        "    output_full = output_cv[['Components','Model','topics',\n",
        "                             'Coherence_CV','Coherence_NPMI']].append(lda_df, ignore_index=True)\n",
        "    output_full['Coherence_NPMI_abs'] = output_full.Coherence_NPMI.abs()\n",
        "    output_full['Model, components'] = output_full[\"Model\"] + \", \" + output_full[\"Components\"]\n",
        "    output_full['Model, components'] = np.where(output_full['Model, components'].isin([np.nan]), \n",
        "                                                output_full['Model'], \n",
        "                                                output_full['Model, components'])\n",
        "    return(output_full)\n",
        "\n",
        "def output_plot(data, y, ylab, filename):\n",
        "    sns.set(style=\"ticks\", font_scale=1.2)\n",
        "    fig, ax = plt.subplots()\n",
        "    p = sns.lineplot(data= data, \n",
        "                     x='topics', \n",
        "                     y='Coherence_CV',\n",
        "                     hue = 'Model, components',\n",
        "                     style = 'Model, components',\n",
        "                     palette='rocket',\n",
        "                     markers=True,\n",
        "                     ax=ax)\n",
        "    plt.xlabel('Number of topics')\n",
        "    plt.ylabel(ylab)\n",
        "    handles, labels = ax.get_legend_handles_labels()\n",
        "    ax.legend(handles=handles, labels=labels)\n",
        "    p.set_xticks(range(5,16))\n",
        "    p.set_xticklabels(range(5,16))\n",
        "    p.figure.savefig(f\"{filename}.png\",dpi=300, bbox_inches=\"tight\")\n",
        "    plt.clf()\n",
        "\n",
        "def filter_df(df, *args):\n",
        "    for k, v in args:\n",
        "        df = df[df[k].isin(v)]\n",
        "    return df"
      ],
      "execution_count": null,
      "outputs": []
    },
    {
      "cell_type": "code",
      "metadata": {
        "colab": {
          "base_uri": "https://localhost:8080/",
          "height": 191
        },
        "id": "zzSkfz0k1gaC",
        "outputId": "03188afc-10d5-4fb5-fc14-b101cb7fbbf1"
      },
      "source": [
        "bert_models = pd.concat([best_fte, best_bert])\n",
        "all_models = concat_dfs(bert_models, lda_df, save = True)\n",
        "output_plot(data = filter_df(all_models, \n",
        "                              ('Model', ['FTE','BERT','BTM','LDA']),\n",
        "                              ('Components', ['tfidf-attn', np.nan])), \n",
        "            y = 'Coherence_CV', \n",
        "            ylab = 'Coherence ($\\mathregular{C_{v}}$)',\n",
        "            filename = 'CV_plot_best_FTA_vs_baselines')\n",
        "\n",
        "output_plot(data = filter_df(all_models, \n",
        "                             ('Model', ['FTE']),\n",
        "                             ('Components', ['tfidf-attn', 'tfidf','attn'])), \n",
        "            y = 'Coherence_CV', \n",
        "            ylab = 'Coherence ($\\mathregular{C_{v}}$)', \n",
        "            filename = 'CV_plot_FTA')"
      ],
      "execution_count": null,
      "outputs": [
        {
          "output_type": "stream",
          "text": [
            "<input>:7: DeprecationWarning: invalid escape sequence \\m\n",
            "<input>:7: DeprecationWarning: invalid escape sequence \\m\n",
            "<input>:7: DeprecationWarning: invalid escape sequence \\m\n",
            "<input>:14: DeprecationWarning: invalid escape sequence \\m\n",
            "<ipython-input-88-64d1ca733222>:7: DeprecationWarning: invalid escape sequence \\m\n",
            "  ylab = 'Coherence ($\\mathregular{C_{v}}$)',\n",
            "<ipython-input-88-64d1ca733222>:14: DeprecationWarning: invalid escape sequence \\m\n",
            "  ylab = 'Coherence ($\\mathregular{C_{v}}$)',\n"
          ],
          "name": "stderr"
        },
        {
          "output_type": "display_data",
          "data": {
            "text/plain": [
              "<Figure size 432x288 with 0 Axes>"
            ]
          },
          "metadata": {
            "tags": []
          }
        },
        {
          "output_type": "display_data",
          "data": {
            "text/plain": [
              "<Figure size 432x288 with 0 Axes>"
            ]
          },
          "metadata": {
            "tags": []
          }
        }
      ]
    },
    {
      "cell_type": "code",
      "metadata": {
        "colab": {
          "base_uri": "https://localhost:8080/",
          "height": 711
        },
        "id": "lWmPXBbX3Att",
        "outputId": "810e357b-4a96-4447-fa56-166e75cefecf"
      },
      "source": [
        "Image('CV_plot_best_FTA_vs_baselines.png')"
      ],
      "execution_count": null,
      "outputs": [
        {
          "output_type": "execute_result",
          "data": {
            "image/png": "[encoded data removed]",
            "text/plain": [
              "<IPython.core.display.Image object>"
            ]
          },
          "metadata": {
            "tags": []
          },
          "execution_count": 89
        }
      ]
    },
    {
      "cell_type": "code",
      "metadata": {
        "colab": {
          "base_uri": "https://localhost:8080/",
          "height": 697
        },
        "id": "kya8U2un5-Ne",
        "outputId": "a14f9cbf-f1a0-48b5-dd4c-0a3ffef40b94"
      },
      "source": [
        "Image('CV_plot_FTA.png')"
      ],
      "execution_count": null,
      "outputs": [
        {
          "output_type": "execute_result",
          "data": {
            "image/png": "[encoded data removed]",
            "text/plain": [
              "<IPython.core.display.Image object>"
            ]
          },
          "metadata": {
            "tags": []
          },
          "execution_count": 90
        }
      ]
    }
  ]
}